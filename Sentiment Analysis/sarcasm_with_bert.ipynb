{
  "metadata": {
    "kernelspec": {
      "language": "python",
      "display_name": "Python 3",
      "name": "python3"
    },
    "language_info": {
      "name": "python",
      "version": "3.7.6",
      "mimetype": "text/x-python",
      "codemirror_mode": {
        "name": "ipython",
        "version": 3
      },
      "pygments_lexer": "ipython3",
      "nbconvert_exporter": "python",
      "file_extension": ".py"
    },
    "colab": {
      "provenance": []
    }
  },
  "nbformat_minor": 0,
  "nbformat": 4,
  "cells": [
    {
      "cell_type": "markdown",
      "source": [
        "## Sarcasm Detection \n",
        "\n",
        "Sarcasm detection unlike sentiment analysis or simple text classification requires a lot of information about human interaction semantics, the model needs to know about how humans actually interact and it also needs to know the context in which certain words are used while being sarcastic and when not sarcastic.\n",
        "\n",
        "### In this notebook, we will try using the BERT classifier.\n",
        "\n",
        "## BERT - Bidirectional Encoder Representations from Transformers"
      ],
      "metadata": {
        "id": "J_FPn7ZGxcWR"
      }
    },
    {
      "cell_type": "markdown",
      "source": [
        "1. BERT’s key technical innovation is applying the bidirectional training of Transformer, a popular attention model, to language modelling. \n",
        "2. This is in contrast to previous efforts which looked at a text sequence either from left to right or combined left-to-right and right-to-left training. \n",
        "3. The paper’s results show that a language model which is bidirectionally trained can have a deeper sense of language context and flow than single-direction language models. \n",
        "4. In the paper, the researchers detail a novel technique named Masked LM (MLM) which allows bidirectional training in models in which was previously impossible."
      ],
      "metadata": {
        "id": "4qqf9dpZxcWV"
      }
    },
    {
      "cell_type": "code",
      "source": [
        "# This Python 3 environment comes with many helpful analytics libraries installed\n",
        "# It is defined by the kaggle/python Docker image: https://github.com/kaggle/docker-python\n",
        "# For example, here's several helpful packages to load\n",
        "\n",
        "import numpy as np # linear algebra\n",
        "import pandas as pd # data processing, CSV file I/O (e.g. pd.read_csv)\n",
        "\n",
        "# Input data files are available in the read-only \"../input/\" directory\n",
        "# For example, running this (by clicking run or pressing Shift+Enter) will list all files under the input directory\n",
        "\n",
        "import os\n",
        "for dirname, _, filenames in os.walk('/kaggle/input'):\n",
        "    for filename in filenames:\n",
        "        print(os.path.join(dirname, filename))\n",
        "\n",
        "# You can write up to 5GB to the current directory (/kaggle/working/) that gets preserved as output when you create a version using \"Save & Run All\" \n",
        "# You can also write temporary files to /kaggle/temp/, but they won't be saved outside of the current session"
      ],
      "metadata": {
        "_uuid": "8f2839f25d086af736a60e9eeb907d3b93b6e0e5",
        "_cell_guid": "b1076dfc-b9ad-4769-8c92-a6c4dae69d19",
        "execution": {
          "iopub.status.busy": "2023-04-06T07:38:34.624336Z",
          "iopub.execute_input": "2023-04-06T07:38:34.624709Z",
          "iopub.status.idle": "2023-04-06T07:38:34.639995Z",
          "shell.execute_reply.started": "2023-04-06T07:38:34.624678Z",
          "shell.execute_reply": "2023-04-06T07:38:34.639115Z"
        },
        "trusted": true,
        "id": "naR5X7--xcWX",
        "outputId": "89bb06c6-3d78-4250-ecec-e2b18d72b386"
      },
      "execution_count": null,
      "outputs": [
        {
          "name": "stdout",
          "text": "/kaggle/input/news-headlines-dataset-for-sarcasm-detection/Sarcasm_Headlines_Dataset_v2.json\n/kaggle/input/news-headlines-dataset-for-sarcasm-detection/Sarcasm_Headlines_Dataset.json\n",
          "output_type": "stream"
        }
      ]
    },
    {
      "cell_type": "code",
      "source": [
        "import numpy as np\n",
        "import pandas as pd\n",
        "import seaborn as sns\n",
        "import matplotlib.pyplot as plt\n",
        "import plotly.express as px\n",
        "\n",
        "import nltk\n",
        "from sklearn.feature_extraction.text import CountVectorizer\n",
        "from nltk.corpus import stopwords\n",
        "from wordcloud import WordCloud,STOPWORDS\n",
        "from nltk.stem import WordNetLemmatizer\n",
        "from nltk.tokenize import word_tokenize\n",
        "from bs4 import BeautifulSoup\n",
        "import re,string,unicodedata\n",
        "from sklearn.metrics import classification_report,confusion_matrix,accuracy_score,f1_score\n",
        "from sklearn.model_selection import train_test_split\n",
        "from string import punctuation\n",
        "from nltk import pos_tag\n",
        "from nltk.corpus import wordnet\n",
        "\n",
        "\n",
        "import keras\n",
        "import tensorflow as tf\n",
        "import tensorflow_hub as hub\n",
        "from tensorflow import keras \n",
        "from keras import backend as K\n",
        "from tensorflow.keras.preprocessing import sequence\n",
        "from tensorflow.keras.preprocessing.text import Tokenizer\n",
        "from tensorflow.keras.preprocessing.sequence import pad_sequences\n",
        "from tensorflow.keras.optimizers import Adam\n",
        "from keras.layers import LSTM,Dense,Bidirectional,Input\n",
        "from keras.models import Model\n",
        "import torch\n",
        "import transformers"
      ],
      "metadata": {
        "_uuid": "d629ff2d2480ee46fbb7e2d37f6b5fab8052498a",
        "_cell_guid": "79c7e3d0-c299-4dcb-8224-4455121ee9b0",
        "execution": {
          "iopub.status.busy": "2023-04-06T07:38:34.642038Z",
          "iopub.execute_input": "2023-04-06T07:38:34.642400Z",
          "iopub.status.idle": "2023-04-06T07:38:42.656075Z",
          "shell.execute_reply.started": "2023-04-06T07:38:34.642352Z",
          "shell.execute_reply": "2023-04-06T07:38:42.655223Z"
        },
        "trusted": true,
        "id": "Ua_VQA7pxcWa",
        "outputId": "b2503d69-4aa3-44a2-b1e8-e36fe2a113fc"
      },
      "execution_count": null,
      "outputs": [
        {
          "name": "stderr",
          "text": "\u001b[34m\u001b[1mwandb\u001b[0m: \u001b[33mWARNING\u001b[0m W&B installed but not logged in.  Run `wandb login` or set the WANDB_API_KEY env variable.\n",
          "output_type": "stream"
        }
      ]
    },
    {
      "cell_type": "markdown",
      "source": [
        "## 1. Importing Data"
      ],
      "metadata": {
        "id": "5_WBPh1kxcWc"
      }
    },
    {
      "cell_type": "code",
      "source": [
        "df = pd.read_json(\"../input/news-headlines-dataset-for-sarcasm-detection/Sarcasm_Headlines_Dataset_v2.json\", lines=True)\n",
        "df.head()"
      ],
      "metadata": {
        "execution": {
          "iopub.status.busy": "2023-04-06T07:38:42.660244Z",
          "iopub.execute_input": "2023-04-06T07:38:42.660571Z",
          "iopub.status.idle": "2023-04-06T07:38:43.056427Z",
          "shell.execute_reply.started": "2023-04-06T07:38:42.660537Z",
          "shell.execute_reply": "2023-04-06T07:38:43.055474Z"
        },
        "trusted": true,
        "id": "Wd9iNSkhxcWd",
        "outputId": "1a7c7195-8108-4492-9dc0-c33d42e4d367"
      },
      "execution_count": null,
      "outputs": [
        {
          "execution_count": 5,
          "output_type": "execute_result",
          "data": {
            "text/plain": "   is_sarcastic                                           headline  \\\n0             1  thirtysomething scientists unveil doomsday clo...   \n1             0  dem rep. totally nails why congress is falling...   \n2             0  eat your veggies: 9 deliciously different recipes   \n3             1  inclement weather prevents liar from getting t...   \n4             1  mother comes pretty close to using word 'strea...   \n\n                                        article_link  \n0  https://www.theonion.com/thirtysomething-scien...  \n1  https://www.huffingtonpost.com/entry/donna-edw...  \n2  https://www.huffingtonpost.com/entry/eat-your-...  \n3  https://local.theonion.com/inclement-weather-p...  \n4  https://www.theonion.com/mother-comes-pretty-c...  ",
            "text/html": "<div>\n<style scoped>\n    .dataframe tbody tr th:only-of-type {\n        vertical-align: middle;\n    }\n\n    .dataframe tbody tr th {\n        vertical-align: top;\n    }\n\n    .dataframe thead th {\n        text-align: right;\n    }\n</style>\n<table border=\"1\" class=\"dataframe\">\n  <thead>\n    <tr style=\"text-align: right;\">\n      <th></th>\n      <th>is_sarcastic</th>\n      <th>headline</th>\n      <th>article_link</th>\n    </tr>\n  </thead>\n  <tbody>\n    <tr>\n      <th>0</th>\n      <td>1</td>\n      <td>thirtysomething scientists unveil doomsday clo...</td>\n      <td>https://www.theonion.com/thirtysomething-scien...</td>\n    </tr>\n    <tr>\n      <th>1</th>\n      <td>0</td>\n      <td>dem rep. totally nails why congress is falling...</td>\n      <td>https://www.huffingtonpost.com/entry/donna-edw...</td>\n    </tr>\n    <tr>\n      <th>2</th>\n      <td>0</td>\n      <td>eat your veggies: 9 deliciously different recipes</td>\n      <td>https://www.huffingtonpost.com/entry/eat-your-...</td>\n    </tr>\n    <tr>\n      <th>3</th>\n      <td>1</td>\n      <td>inclement weather prevents liar from getting t...</td>\n      <td>https://local.theonion.com/inclement-weather-p...</td>\n    </tr>\n    <tr>\n      <th>4</th>\n      <td>1</td>\n      <td>mother comes pretty close to using word 'strea...</td>\n      <td>https://www.theonion.com/mother-comes-pretty-c...</td>\n    </tr>\n  </tbody>\n</table>\n</div>"
          },
          "metadata": {}
        }
      ]
    },
    {
      "cell_type": "code",
      "source": [
        "df.drop('article_link', axis=1, inplace=True)"
      ],
      "metadata": {
        "execution": {
          "iopub.status.busy": "2023-04-06T07:38:43.058535Z",
          "iopub.execute_input": "2023-04-06T07:38:43.058869Z",
          "iopub.status.idle": "2023-04-06T07:38:43.068023Z",
          "shell.execute_reply.started": "2023-04-06T07:38:43.058834Z",
          "shell.execute_reply": "2023-04-06T07:38:43.066966Z"
        },
        "trusted": true,
        "id": "bf-WvBzFxcWe"
      },
      "execution_count": null,
      "outputs": []
    },
    {
      "cell_type": "markdown",
      "source": [
        "## 2. Basic Data Cleaning"
      ],
      "metadata": {
        "id": "v2xH3--lxcWe"
      }
    },
    {
      "cell_type": "code",
      "source": [
        "stop = set(stopwords.words('english'))\n",
        "punctuation = list(string.punctuation)\n",
        "stop.update(punctuation)"
      ],
      "metadata": {
        "execution": {
          "iopub.status.busy": "2023-04-06T07:38:43.069518Z",
          "iopub.execute_input": "2023-04-06T07:38:43.070077Z",
          "iopub.status.idle": "2023-04-06T07:38:43.082766Z",
          "shell.execute_reply.started": "2023-04-06T07:38:43.070043Z",
          "shell.execute_reply": "2023-04-06T07:38:43.082034Z"
        },
        "trusted": true,
        "id": "EFSWk9rTxcWf"
      },
      "execution_count": null,
      "outputs": []
    },
    {
      "cell_type": "code",
      "source": [
        "def strip_html(text):\n",
        "    soup = BeautifulSoup(text, \"html.parser\")\n",
        "    return soup.get_text()\n",
        "\n",
        "#Removing the square brackets\n",
        "def remove_between_square_brackets(text):\n",
        "    return re.sub('\\[[^]]*\\]', '', text)\n",
        "# Removing URL's\n",
        "def remove_between_square_brackets(text):\n",
        "    return re.sub(r'http\\S+', '', text)\n",
        "#Removing the stopwords from text\n",
        "def remove_stopwords(text):\n",
        "    final_text = []\n",
        "    for i in text.split():\n",
        "        if i.strip().lower() not in stop and i.strip().lower().isalpha():\n",
        "            final_text.append(i.strip().lower())\n",
        "    return \" \".join(final_text)\n",
        "#Removing the noisy text\n",
        "def denoise_text(text):\n",
        "    text = strip_html(text)\n",
        "    text = remove_between_square_brackets(text)\n",
        "    text = remove_stopwords(text)\n",
        "    return text\n",
        "#Apply function on review column\n",
        "df['headline']=df['headline'].apply(denoise_text)"
      ],
      "metadata": {
        "execution": {
          "iopub.status.busy": "2023-04-06T07:38:43.085282Z",
          "iopub.execute_input": "2023-04-06T07:38:43.085953Z",
          "iopub.status.idle": "2023-04-06T07:38:44.975677Z",
          "shell.execute_reply.started": "2023-04-06T07:38:43.085917Z",
          "shell.execute_reply": "2023-04-06T07:38:44.974917Z"
        },
        "trusted": true,
        "id": "HIwCLf11xcWg"
      },
      "execution_count": null,
      "outputs": []
    },
    {
      "cell_type": "markdown",
      "source": [
        "## 3. Creating the vocabulary"
      ],
      "metadata": {
        "id": "fb-pbDOuxcWh"
      }
    },
    {
      "cell_type": "code",
      "source": [
        "def get_corpus(text):\n",
        "    words = []\n",
        "    for i in text:\n",
        "        for j in i.split():\n",
        "            words.append(j.strip())\n",
        "    return words\n",
        "corpus = get_corpus(df.headline)\n",
        "corpus[:5]\n"
      ],
      "metadata": {
        "execution": {
          "iopub.status.busy": "2023-04-06T07:38:44.977007Z",
          "iopub.execute_input": "2023-04-06T07:38:44.977337Z",
          "iopub.status.idle": "2023-04-06T07:38:45.028359Z",
          "shell.execute_reply.started": "2023-04-06T07:38:44.977300Z",
          "shell.execute_reply": "2023-04-06T07:38:45.027536Z"
        },
        "trusted": true,
        "id": "ydSZCeryxcWh",
        "outputId": "1fd2b50b-d770-4b7c-9dc7-f0669e2fa8b5"
      },
      "execution_count": null,
      "outputs": [
        {
          "execution_count": 9,
          "output_type": "execute_result",
          "data": {
            "text/plain": "['thirtysomething', 'scientists', 'unveil', 'doomsday', 'clock']"
          },
          "metadata": {}
        }
      ]
    },
    {
      "cell_type": "code",
      "source": [
        "from collections import Counter\n",
        "counter = Counter(corpus)\n",
        "most_common = counter.most_common(10)\n",
        "most_common = dict(most_common)\n",
        "most_common"
      ],
      "metadata": {
        "execution": {
          "iopub.status.busy": "2023-04-06T07:38:45.030003Z",
          "iopub.execute_input": "2023-04-06T07:38:45.030364Z",
          "iopub.status.idle": "2023-04-06T07:38:45.063981Z",
          "shell.execute_reply.started": "2023-04-06T07:38:45.030326Z",
          "shell.execute_reply": "2023-04-06T07:38:45.063140Z"
        },
        "trusted": true,
        "id": "KkOiS9SixcWi",
        "outputId": "35eabba9-5b28-4a59-cb49-c7dad44ed59c"
      },
      "execution_count": null,
      "outputs": [
        {
          "execution_count": 10,
          "output_type": "execute_result",
          "data": {
            "text/plain": "{'new': 1637,\n 'man': 1351,\n 'trump': 1284,\n 'one': 527,\n 'area': 494,\n 'woman': 483,\n 'says': 482,\n 'donald': 472,\n 'day': 435,\n 'like': 428}"
          },
          "metadata": {}
        }
      ]
    },
    {
      "cell_type": "markdown",
      "source": [
        "## 4. Model Building"
      ],
      "metadata": {
        "id": "CAvLCM1VxcWj"
      }
    },
    {
      "cell_type": "code",
      "source": [
        "X = df['headline']\n",
        "y = df['is_sarcastic']"
      ],
      "metadata": {
        "execution": {
          "iopub.status.busy": "2023-04-06T07:38:45.065445Z",
          "iopub.execute_input": "2023-04-06T07:38:45.065952Z",
          "iopub.status.idle": "2023-04-06T07:38:45.071343Z",
          "shell.execute_reply.started": "2023-04-06T07:38:45.065916Z",
          "shell.execute_reply": "2023-04-06T07:38:45.070383Z"
        },
        "trusted": true,
        "id": "5K6eCYA8xcWj"
      },
      "execution_count": null,
      "outputs": []
    },
    {
      "cell_type": "code",
      "source": [
        "X_train,X_test,y_train,y_test = train_test_split(X,y,random_state = 0 , stratify = y)"
      ],
      "metadata": {
        "execution": {
          "iopub.status.busy": "2023-04-06T07:38:45.074209Z",
          "iopub.execute_input": "2023-04-06T07:38:45.074533Z",
          "iopub.status.idle": "2023-04-06T07:38:45.098238Z",
          "shell.execute_reply.started": "2023-04-06T07:38:45.074488Z",
          "shell.execute_reply": "2023-04-06T07:38:45.097624Z"
        },
        "trusted": true,
        "id": "RljEge_mxcWk"
      },
      "execution_count": null,
      "outputs": []
    },
    {
      "cell_type": "code",
      "source": [
        "## pip install transformers\n",
        "## If transformers library is not installed"
      ],
      "metadata": {
        "execution": {
          "iopub.status.busy": "2023-04-06T07:38:45.099663Z",
          "iopub.execute_input": "2023-04-06T07:38:45.100264Z",
          "iopub.status.idle": "2023-04-06T07:38:45.103977Z",
          "shell.execute_reply.started": "2023-04-06T07:38:45.100219Z",
          "shell.execute_reply": "2023-04-06T07:38:45.102848Z"
        },
        "trusted": true,
        "id": "qek5cTcnxcWo"
      },
      "execution_count": null,
      "outputs": []
    },
    {
      "cell_type": "markdown",
      "source": [
        "#### DistilBERT is a small, fast, cheap and light Transformer model trained by distilling Bert base. It has 40% less parameters than bert-base-uncased, runs 60% faster while preserving over 95% of Bert’s performances as measured on the GLUE language understanding benchmark."
      ],
      "metadata": {
        "id": "_j_QQjlOxcWq"
      }
    },
    {
      "cell_type": "code",
      "source": [
        "from tokenizers import BertWordPieceTokenizer\n",
        "# First load the real tokenizer\n",
        "tokenizer = transformers.DistilBertTokenizer.from_pretrained('distilbert-base-uncased' , lower = True)\n",
        "# Save the loaded tokenizer locally\n",
        "tokenizer.save_pretrained('.')\n",
        "# Reload it with the huggingface tokenizers library\n",
        "fast_tokenizer = BertWordPieceTokenizer('vocab.txt', lowercase=True)\n",
        "fast_tokenizer"
      ],
      "metadata": {
        "execution": {
          "iopub.status.busy": "2023-04-06T07:38:45.107998Z",
          "iopub.execute_input": "2023-04-06T07:38:45.108399Z",
          "iopub.status.idle": "2023-04-06T07:38:46.240766Z",
          "shell.execute_reply.started": "2023-04-06T07:38:45.108345Z",
          "shell.execute_reply": "2023-04-06T07:38:46.239830Z"
        },
        "trusted": true,
        "colab": {
          "referenced_widgets": [
            "eb86ae43bc9b47d992c005e6cbe60dd3"
          ]
        },
        "id": "FafhYxpixcWq",
        "outputId": "99478e01-4f67-469e-a055-2713b8efc2be"
      },
      "execution_count": null,
      "outputs": [
        {
          "output_type": "display_data",
          "data": {
            "text/plain": "HBox(children=(FloatProgress(value=0.0, description='Downloading', max=231508.0, style=ProgressStyle(descripti…",
            "application/vnd.jupyter.widget-view+json": {
              "version_major": 2,
              "version_minor": 0,
              "model_id": "eb86ae43bc9b47d992c005e6cbe60dd3"
            }
          },
          "metadata": {}
        },
        {
          "name": "stdout",
          "text": "\n",
          "output_type": "stream"
        },
        {
          "execution_count": 14,
          "output_type": "execute_result",
          "data": {
            "text/plain": "Tokenizer(vocabulary_size=30522, model=BertWordPiece, unk_token=[UNK], sep_token=[SEP], cls_token=[CLS], pad_token=[PAD], mask_token=[MASK], clean_text=True, handle_chinese_chars=True, strip_accents=True, lowercase=True, wordpieces_prefix=##)"
          },
          "metadata": {}
        }
      ]
    },
    {
      "cell_type": "markdown",
      "source": [
        "Before any sentence is passed into the BERT model, it has to go through some tokenization steps. \n",
        "1. Firstly, tokenize all words in the sentence corpus\n",
        "2. Next, all the tokens are embedded using the learned embeddings from a WordPiece Tokenizer. For each word we get 786 dim. vector representation.\n",
        "3. Segment Embedding - Helps in distinguishing the words belonging to different sentences.\n",
        "4. Positional Embedding - This is used to provide the positional understanding for each word."
      ],
      "metadata": {
        "id": "aE9JfWNrxcWr"
      }
    },
    {
      "cell_type": "markdown",
      "source": [
        "![](https://miro.medium.com/max/875/0*m_kXt3uqZH9e7H4w.png)"
      ],
      "metadata": {
        "id": "3oeswsANxcWr"
      }
    },
    {
      "cell_type": "code",
      "source": [
        "def fast_encode(texts, tokenizer, chunk_size=256, maxlen=400):\n",
        "\n",
        "    tokenizer.enable_truncation(max_length=maxlen)\n",
        "    tokenizer.enable_padding(max_length=maxlen)\n",
        "    all_ids = []\n",
        "    \n",
        "    for i in range(0, len(texts), chunk_size):\n",
        "        text_chunk = texts[i:i+chunk_size].tolist()\n",
        "        encs = tokenizer.encode_batch(text_chunk)\n",
        "        all_ids.extend([enc.ids for enc in encs])\n",
        "    \n",
        "    return np.array(all_ids)"
      ],
      "metadata": {
        "execution": {
          "iopub.status.busy": "2023-04-06T07:38:46.243393Z",
          "iopub.execute_input": "2023-04-06T07:38:46.243684Z",
          "iopub.status.idle": "2023-04-06T07:38:46.250489Z",
          "shell.execute_reply.started": "2023-04-06T07:38:46.243653Z",
          "shell.execute_reply": "2023-04-06T07:38:46.249324Z"
        },
        "trusted": true,
        "id": "FiDK7bvExcWr"
      },
      "execution_count": null,
      "outputs": []
    },
    {
      "cell_type": "code",
      "source": [
        "x_train = fast_encode(X_train.values, fast_tokenizer, maxlen=400)\n",
        "x_test = fast_encode(X_test.values, fast_tokenizer, maxlen=400)"
      ],
      "metadata": {
        "execution": {
          "iopub.status.busy": "2023-04-06T07:38:46.251958Z",
          "iopub.execute_input": "2023-04-06T07:38:46.252581Z",
          "iopub.status.idle": "2023-04-06T07:38:48.733445Z",
          "shell.execute_reply.started": "2023-04-06T07:38:46.252530Z",
          "shell.execute_reply": "2023-04-06T07:38:48.732541Z"
        },
        "trusted": true,
        "id": "BtsdOXj1xcWs"
      },
      "execution_count": null,
      "outputs": []
    },
    {
      "cell_type": "markdown",
      "source": [
        "We shall be using the pre-trained BERT model which has been extensively trained on huge text corpuses of Wikipedia.\n",
        "Now after getting the pre-trained model, we can fine-tune the model for our own specific task.\n",
        "\n",
        "The key thing to notice is here is that for our final prediction we would only be using the output generated by the first token ([CLS]), after which we use a sigmoid activation for final prediction."
      ],
      "metadata": {
        "id": "3l4U2_LNxcWt"
      }
    },
    {
      "cell_type": "code",
      "source": [
        "def build_model(transformer, max_len=400):\n",
        "    \n",
        "    input_word_ids = Input(shape=(max_len,), dtype=tf.int32, name=\"input_word_ids\")\n",
        "    sequence_output = transformer(input_word_ids)[0]\n",
        "    cls_token = sequence_output[:, 0, :]\n",
        "    out = Dense(1, activation='sigmoid')(cls_token)\n",
        "    \n",
        "    model = Model(inputs=input_word_ids, outputs=out)\n",
        "    model.compile(Adam(lr=2e-5), loss='binary_crossentropy', metrics=['accuracy'])\n",
        "    \n",
        "    return model"
      ],
      "metadata": {
        "execution": {
          "iopub.status.busy": "2023-04-06T07:38:48.736199Z",
          "iopub.execute_input": "2023-04-06T07:38:48.736869Z",
          "iopub.status.idle": "2023-04-06T07:38:48.743824Z",
          "shell.execute_reply.started": "2023-04-06T07:38:48.736824Z",
          "shell.execute_reply": "2023-04-06T07:38:48.742733Z"
        },
        "trusted": true,
        "id": "EtzR81kTxcWu"
      },
      "execution_count": null,
      "outputs": []
    },
    {
      "cell_type": "markdown",
      "source": [
        "Downloading the pre-trained BERT model.\n",
        "We can use either the CASED or the UNCASED version for model building.\n",
        "\n",
        "To explain the BERT training in simple words:\n",
        "The BERT pre-training consists of two steps which happen parallely, these include:\n",
        "### 1. Masked Language Model\n",
        "In this the model is provided with sentences and some of the words are masked with a [MASK] tag (15% of all words), the model is then asked to predict those masked words. The BERT loss function takes into consideration only the prediction of the masked values and ignores the prediction of the non-masked words. As a consequence, the model converges slower than directional models, a characteristic which is offset by its increased context awareness.\n",
        "\n",
        "### 2. Next Sentence Prediction\n",
        "In the BERT training process, the model receives pairs of sentences as input and learns to predict if the second sentence in the pair is the subsequent sentence in the original document. This helps the model to understand the relationships between"
      ],
      "metadata": {
        "id": "L65PPXe-xcWu"
      }
    },
    {
      "cell_type": "code",
      "source": [
        "bert_model = transformers.TFDistilBertModel.from_pretrained('distilbert-base-uncased')"
      ],
      "metadata": {
        "execution": {
          "iopub.status.busy": "2023-04-06T07:38:48.746298Z",
          "iopub.execute_input": "2023-04-06T07:38:48.746875Z",
          "iopub.status.idle": "2023-04-06T07:39:06.237036Z",
          "shell.execute_reply.started": "2023-04-06T07:38:48.746839Z",
          "shell.execute_reply": "2023-04-06T07:39:06.236113Z"
        },
        "trusted": true,
        "colab": {
          "referenced_widgets": [
            "4e56c742578e431fa837a7d1557d0f75",
            "0e4f71dd97064fb39ae37aa0fddcd530"
          ]
        },
        "id": "MxUUgTP3xcWu",
        "outputId": "91c58043-9336-4c85-ae82-c69ab3521d9c"
      },
      "execution_count": null,
      "outputs": [
        {
          "output_type": "display_data",
          "data": {
            "text/plain": "HBox(children=(FloatProgress(value=0.0, description='Downloading', max=442.0, style=ProgressStyle(description_…",
            "application/vnd.jupyter.widget-view+json": {
              "version_major": 2,
              "version_minor": 0,
              "model_id": "4e56c742578e431fa837a7d1557d0f75"
            }
          },
          "metadata": {}
        },
        {
          "name": "stdout",
          "text": "\n",
          "output_type": "stream"
        },
        {
          "output_type": "display_data",
          "data": {
            "text/plain": "HBox(children=(FloatProgress(value=0.0, description='Downloading', max=363423424.0, style=ProgressStyle(descri…",
            "application/vnd.jupyter.widget-view+json": {
              "version_major": 2,
              "version_minor": 0,
              "model_id": "0e4f71dd97064fb39ae37aa0fddcd530"
            }
          },
          "metadata": {}
        },
        {
          "name": "stdout",
          "text": "\n",
          "output_type": "stream"
        }
      ]
    },
    {
      "cell_type": "code",
      "source": [
        "model = build_model(bert_model, max_len=400)\n",
        "model.summary()"
      ],
      "metadata": {
        "execution": {
          "iopub.status.busy": "2023-04-06T07:39:06.238451Z",
          "iopub.execute_input": "2023-04-06T07:39:06.238817Z",
          "iopub.status.idle": "2023-04-06T07:39:08.622700Z",
          "shell.execute_reply.started": "2023-04-06T07:39:06.238780Z",
          "shell.execute_reply": "2023-04-06T07:39:08.621960Z"
        },
        "trusted": true,
        "id": "nglXfluyxcWv",
        "outputId": "94a962b0-0c72-4b58-e7e0-808ddf9dd80e"
      },
      "execution_count": null,
      "outputs": [
        {
          "name": "stdout",
          "text": "Model: \"model\"\n_________________________________________________________________\nLayer (type)                 Output Shape              Param #   \n=================================================================\ninput_word_ids (InputLayer)  [(None, 400)]             0         \n_________________________________________________________________\ntf_distil_bert_model (TFDist ((None, 400, 768),)       66362880  \n_________________________________________________________________\ntf_op_layer_strided_slice (T [(None, 768)]             0         \n_________________________________________________________________\ndense (Dense)                (None, 1)                 769       \n=================================================================\nTotal params: 66,363,649\nTrainable params: 66,363,649\nNon-trainable params: 0\n_________________________________________________________________\n",
          "output_type": "stream"
        }
      ]
    },
    {
      "cell_type": "code",
      "source": [
        "history = model.fit(x_train,y_train,batch_size = 32 ,validation_data=(x_test,y_test),epochs = 3)"
      ],
      "metadata": {
        "execution": {
          "iopub.status.busy": "2023-04-06T07:39:08.625900Z",
          "iopub.execute_input": "2023-04-06T07:39:08.626157Z",
          "iopub.status.idle": "2023-04-06T08:08:20.269812Z",
          "shell.execute_reply.started": "2023-04-06T07:39:08.626131Z",
          "shell.execute_reply": "2023-04-06T08:08:20.268995Z"
        },
        "trusted": true,
        "id": "MZ0rpweOxcWw",
        "outputId": "4005da3a-ad6b-4cb4-8850-2f69d8c0c6ed"
      },
      "execution_count": null,
      "outputs": [
        {
          "name": "stdout",
          "text": "Epoch 1/3\n671/671 [==============================] - 582s 867ms/step - loss: 0.4960 - accuracy: 0.7508 - val_loss: 0.4076 - val_accuracy: 0.8145\nEpoch 2/3\n671/671 [==============================] - 580s 865ms/step - loss: 0.3183 - accuracy: 0.8636 - val_loss: 0.3652 - val_accuracy: 0.8429\nEpoch 3/3\n671/671 [==============================] - 580s 865ms/step - loss: 0.1922 - accuracy: 0.9241 - val_loss: 0.4052 - val_accuracy: 0.8358\n",
          "output_type": "stream"
        }
      ]
    },
    {
      "cell_type": "code",
      "source": [
        "print(\"Accuracy of the model on Testing Data is - \" , model.evaluate(x_test,y_test)[1]*100 , \"%\")"
      ],
      "metadata": {
        "execution": {
          "iopub.status.busy": "2023-04-06T08:08:20.271110Z",
          "iopub.execute_input": "2023-04-06T08:08:20.271464Z",
          "iopub.status.idle": "2023-04-06T08:09:16.994927Z",
          "shell.execute_reply.started": "2023-04-06T08:08:20.271428Z",
          "shell.execute_reply": "2023-04-06T08:09:16.994083Z"
        },
        "trusted": true,
        "id": "w7PAyVLIxcWw",
        "outputId": "7616bbec-5e59-4ffe-aa45-56744d0c8a30"
      },
      "execution_count": null,
      "outputs": [
        {
          "name": "stdout",
          "text": "224/224 [==============================] - 56s 252ms/step - loss: 0.4052 - accuracy: 0.8358\nAccuracy of the model on Testing Data is -  83.57791900634766 %\n",
          "output_type": "stream"
        }
      ]
    },
    {
      "cell_type": "code",
      "source": [
        "epochs = [i for i in range(3)]\n",
        "fig , ax = plt.subplots(1,2)\n",
        "train_acc = history.history['accuracy']\n",
        "train_loss = history.history['loss']\n",
        "val_acc = history.history['val_accuracy']\n",
        "val_loss = history.history['val_loss']\n",
        "fig.set_size_inches(20,10)\n",
        "\n",
        "ax[0].plot(epochs , train_acc , 'go-' , label = 'Training Accuracy')\n",
        "ax[0].plot(epochs , val_acc , 'ro-' , label = 'Testing Accuracy')\n",
        "ax[0].set_title('Training & Testing Accuracy')\n",
        "ax[0].legend()\n",
        "ax[0].set_xlabel(\"Epochs\")\n",
        "ax[0].set_ylabel(\"Accuracy\")\n",
        "\n",
        "ax[1].plot(epochs , train_loss , 'go-' , label = 'Training Loss')\n",
        "ax[1].plot(epochs , val_loss , 'ro-' , label = 'Testing Loss')\n",
        "ax[1].set_title('Training & Testing Loss')\n",
        "ax[1].legend()\n",
        "ax[1].set_xlabel(\"Epochs\")\n",
        "ax[1].set_ylabel(\"Loss\")\n",
        "plt.show()"
      ],
      "metadata": {
        "execution": {
          "iopub.status.busy": "2023-04-06T08:09:16.996474Z",
          "iopub.execute_input": "2023-04-06T08:09:16.996831Z",
          "iopub.status.idle": "2023-04-06T08:09:17.355784Z",
          "shell.execute_reply.started": "2023-04-06T08:09:16.996795Z",
          "shell.execute_reply": "2023-04-06T08:09:17.355071Z"
        },
        "trusted": true,
        "id": "V_6cmcA3xcWx",
        "outputId": "7bfa3569-5324-4da5-cd96-7f2733ca7d75"
      },
      "execution_count": null,
      "outputs": [
        {
          "output_type": "display_data",
          "data": {
            "text/plain": "<Figure size 1440x720 with 2 Axes>",
            "image/png": "[encoded data removed]"
          },
          "metadata": {
            "needs_background": "light"
          }
        }
      ]
    },
    {
      "cell_type": "code",
      "source": [
        "pred = model.predict(x_test)\n",
        "pred[:5]"
      ],
      "metadata": {
        "execution": {
          "iopub.status.busy": "2023-04-06T08:09:17.356833Z",
          "iopub.execute_input": "2023-04-06T08:09:17.357084Z",
          "iopub.status.idle": "2023-04-06T08:10:14.264428Z",
          "shell.execute_reply.started": "2023-04-06T08:09:17.357059Z",
          "shell.execute_reply": "2023-04-06T08:10:14.263485Z"
        },
        "trusted": true,
        "id": "Rw_lRTubxcWx",
        "outputId": "21cc52cc-c0bf-439d-80ec-21a524ba8c4e"
      },
      "execution_count": null,
      "outputs": [
        {
          "execution_count": 23,
          "output_type": "execute_result",
          "data": {
            "text/plain": "array([[0.99952185],\n       [0.99187005],\n       [0.00993216],\n       [0.20797491],\n       [0.11978656]], dtype=float32)"
          },
          "metadata": {}
        }
      ]
    },
    {
      "cell_type": "code",
      "source": [
        "pred = np.round(pred).astype(int)\n",
        "pred[:5]"
      ],
      "metadata": {
        "execution": {
          "iopub.status.busy": "2023-04-06T08:10:14.265781Z",
          "iopub.execute_input": "2023-04-06T08:10:14.266117Z",
          "iopub.status.idle": "2023-04-06T08:10:14.273000Z",
          "shell.execute_reply.started": "2023-04-06T08:10:14.266081Z",
          "shell.execute_reply": "2023-04-06T08:10:14.271954Z"
        },
        "trusted": true,
        "id": "JemADNtGxcWx",
        "outputId": "c5374ab8-4903-4236-9e36-b0fd49ebf6ce"
      },
      "execution_count": null,
      "outputs": [
        {
          "execution_count": 24,
          "output_type": "execute_result",
          "data": {
            "text/plain": "array([[1],\n       [1],\n       [0],\n       [0],\n       [0]])"
          },
          "metadata": {}
        }
      ]
    },
    {
      "cell_type": "code",
      "source": [
        "print(classification_report(y_test, pred))"
      ],
      "metadata": {
        "execution": {
          "iopub.status.busy": "2023-04-06T08:10:14.274455Z",
          "iopub.execute_input": "2023-04-06T08:10:14.275008Z",
          "iopub.status.idle": "2023-04-06T08:10:14.295259Z",
          "shell.execute_reply.started": "2023-04-06T08:10:14.274925Z",
          "shell.execute_reply": "2023-04-06T08:10:14.294452Z"
        },
        "trusted": true,
        "id": "fT7chRChxcWy",
        "outputId": "13f77bb2-8f50-4721-f088-78502a4b3ff4"
      },
      "execution_count": null,
      "outputs": [
        {
          "name": "stdout",
          "text": "              precision    recall  f1-score   support\n\n           0       0.82      0.87      0.85      3746\n           1       0.85      0.80      0.82      3409\n\n    accuracy                           0.84      7155\n   macro avg       0.84      0.83      0.83      7155\nweighted avg       0.84      0.84      0.84      7155\n\n",
          "output_type": "stream"
        }
      ]
    },
    {
      "cell_type": "code",
      "source": [
        "cm = confusion_matrix(y_test,pred)\n",
        "cm"
      ],
      "metadata": {
        "execution": {
          "iopub.status.busy": "2023-04-06T08:10:14.296868Z",
          "iopub.execute_input": "2023-04-06T08:10:14.297230Z",
          "iopub.status.idle": "2023-04-06T08:10:14.312029Z",
          "shell.execute_reply.started": "2023-04-06T08:10:14.297193Z",
          "shell.execute_reply": "2023-04-06T08:10:14.311222Z"
        },
        "trusted": true,
        "id": "vCudhlCFxcWy",
        "outputId": "cc9f571e-f2b8-44c6-a08f-ac11ff4769e9"
      },
      "execution_count": null,
      "outputs": [
        {
          "execution_count": 26,
          "output_type": "execute_result",
          "data": {
            "text/plain": "array([[3264,  482],\n       [ 693, 2716]])"
          },
          "metadata": {}
        }
      ]
    },
    {
      "cell_type": "code",
      "source": [
        "plt.figure(figsize = (10,10))\n",
        "sns.heatmap(cm,cmap= \"Blues\", linecolor = 'black' , linewidth = 1 , annot = True, fmt='')\n",
        "plt.xlabel(\"Predicted\")\n",
        "plt.ylabel(\"Actual\")"
      ],
      "metadata": {
        "execution": {
          "iopub.status.busy": "2023-04-06T08:10:14.313440Z",
          "iopub.execute_input": "2023-04-06T08:10:14.313832Z",
          "iopub.status.idle": "2023-04-06T08:10:14.501023Z",
          "shell.execute_reply.started": "2023-04-06T08:10:14.313789Z",
          "shell.execute_reply": "2023-04-06T08:10:14.500330Z"
        },
        "trusted": true,
        "id": "rftfNk7WxcWy",
        "outputId": "a8ff7d95-dccf-4ec2-e14d-8fb37d7fa3d1"
      },
      "execution_count": null,
      "outputs": [
        {
          "execution_count": 27,
          "output_type": "execute_result",
          "data": {
            "text/plain": "Text(69.0, 0.5, 'Actual')"
          },
          "metadata": {}
        },
        {
          "output_type": "display_data",
          "data": {
            "text/plain": "<Figure size 720x720 with 2 Axes>",
            "image/png": "[encoded data removed]"
          },
          "metadata": {
            "needs_background": "light"
          }
        }
      ]
    },
    {
      "cell_type": "code",
      "source": [
        "tmdb = pd.read_csv(\"/kaggle/input/tmdb-data-cleaned/cleaned_tmdb_data.csv\")\n",
        "tmdb"
      ],
      "metadata": {
        "execution": {
          "iopub.status.busy": "2023-04-06T08:38:30.057117Z",
          "iopub.execute_input": "2023-04-06T08:38:30.057469Z",
          "iopub.status.idle": "2023-04-06T08:38:30.411252Z",
          "shell.execute_reply.started": "2023-04-06T08:38:30.057435Z",
          "shell.execute_reply": "2023-04-06T08:38:30.410351Z"
        },
        "trusted": true,
        "id": "zepl2BX3xcWz",
        "outputId": "e47e45a8-079a-4f96-de61-72feb023a11c"
      },
      "execution_count": null,
      "outputs": [
        {
          "execution_count": 28,
          "output_type": "execute_result",
          "data": {
            "text/plain": "      Unnamed: 0                      Movie Name  Movie Id  \\\n0              0             Shadows in Paradise       3.0   \n1              1                 American Beauty      14.0   \n2              2                    Citizen Kane      15.0   \n3              3              Dancer in the Dark      16.0   \n4              4               The Fifth Element      18.0   \n...          ...                             ...       ...   \n9882        9882                           Wagah  353415.0   \n9883        9883              Killing Hasselhoff  353440.0   \n9884        9884              Killing Hasselhoff  353440.0   \n9885        9885                The Magic Canvas  353478.0   \n9886        9886  Jumanji: Welcome to the Jungle  353486.0   \n\n                                         Review Content  tmdb Rating  \\\n0     Released in 1986, Aki Kaurismaki's <i>Varjoja ...        7.184   \n1     The film American Beauty to me is a film about...        8.030   \n2     \"The Greatest Movie of All Time!\" That's the g...        8.023   \n3     Dazzling Björk in this indictment against the ...        7.889   \n4     This movie is one of the best movies of all ti...        7.524   \n...                                                 ...          ...   \n9882  In his previous film, Haridas, GNR Kumaravelan...        4.400   \n9883  Not good, but better than I had prepared mysel...        4.700   \n9884  Good watch, would watch again, and can recomme...        4.700   \n9885  The opening slide gives us an idea as to what ...        7.000   \n9886  **The 90's Game is back and got even more adve...        6.824   \n\n      User Rating                                           Genre(s)  \\\n0             7.0                               Drama,Comedy,Romance   \n1            10.0                                              Drama   \n2             9.0                                      Mystery,Drama   \n3            10.0                                        Drama,Crime   \n4             9.5  Adventure,Fantasy,Action,Thriller,Science Fiction   \n...           ...                                                ...   \n9882          3.0                               Action,Drama,Romance   \n9883          4.0                                             Comedy   \n9884          6.0                                             Comedy   \n9885          7.0                                          Animation   \n9886          7.0                    Adventure,Action,Comedy,Fantasy   \n\n      Not A Movie? Release Date                 Production Company  \n0            False   1986-10-17          Villealfa Filmproductions  \n1            False   1999-09-15                Jinks/Cohen Company  \n2            False   1941-04-17                Mercury Productions  \n3            False   2000-06-30        Lantia Cinema & Audiovisivi  \n4            False   1997-05-02                            Gaumont  \n...            ...          ...                                ...  \n9882         False   2016-08-12               Vijay Bhargavi Films  \n9883         False   2017-08-29                     Lotus Pictures  \n9884         False   2017-08-29                     Lotus Pictures  \n9885         False   1948-12-30  Halas and Batchelor Cartoon Films  \n9886         False   2017-12-09                     Radar Pictures  \n\n[9887 rows x 10 columns]",
            "text/html": "<div>\n<style scoped>\n    .dataframe tbody tr th:only-of-type {\n        vertical-align: middle;\n    }\n\n    .dataframe tbody tr th {\n        vertical-align: top;\n    }\n\n    .dataframe thead th {\n        text-align: right;\n    }\n</style>\n<table border=\"1\" class=\"dataframe\">\n  <thead>\n    <tr style=\"text-align: right;\">\n      <th></th>\n      <th>Unnamed: 0</th>\n      <th>Movie Name</th>\n      <th>Movie Id</th>\n      <th>Review Content</th>\n      <th>tmdb Rating</th>\n      <th>User Rating</th>\n      <th>Genre(s)</th>\n      <th>Not A Movie?</th>\n      <th>Release Date</th>\n      <th>Production Company</th>\n    </tr>\n  </thead>\n  <tbody>\n    <tr>\n      <th>0</th>\n      <td>0</td>\n      <td>Shadows in Paradise</td>\n      <td>3.0</td>\n      <td>Released in 1986, Aki Kaurismaki's &lt;i&gt;Varjoja ...</td>\n      <td>7.184</td>\n      <td>7.0</td>\n      <td>Drama,Comedy,Romance</td>\n      <td>False</td>\n      <td>1986-10-17</td>\n      <td>Villealfa Filmproductions</td>\n    </tr>\n    <tr>\n      <th>1</th>\n      <td>1</td>\n      <td>American Beauty</td>\n      <td>14.0</td>\n      <td>The film American Beauty to me is a film about...</td>\n      <td>8.030</td>\n      <td>10.0</td>\n      <td>Drama</td>\n      <td>False</td>\n      <td>1999-09-15</td>\n      <td>Jinks/Cohen Company</td>\n    </tr>\n    <tr>\n      <th>2</th>\n      <td>2</td>\n      <td>Citizen Kane</td>\n      <td>15.0</td>\n      <td>\"The Greatest Movie of All Time!\" That's the g...</td>\n      <td>8.023</td>\n      <td>9.0</td>\n      <td>Mystery,Drama</td>\n      <td>False</td>\n      <td>1941-04-17</td>\n      <td>Mercury Productions</td>\n    </tr>\n    <tr>\n      <th>3</th>\n      <td>3</td>\n      <td>Dancer in the Dark</td>\n      <td>16.0</td>\n      <td>Dazzling Björk in this indictment against the ...</td>\n      <td>7.889</td>\n      <td>10.0</td>\n      <td>Drama,Crime</td>\n      <td>False</td>\n      <td>2000-06-30</td>\n      <td>Lantia Cinema &amp; Audiovisivi</td>\n    </tr>\n    <tr>\n      <th>4</th>\n      <td>4</td>\n      <td>The Fifth Element</td>\n      <td>18.0</td>\n      <td>This movie is one of the best movies of all ti...</td>\n      <td>7.524</td>\n      <td>9.5</td>\n      <td>Adventure,Fantasy,Action,Thriller,Science Fiction</td>\n      <td>False</td>\n      <td>1997-05-02</td>\n      <td>Gaumont</td>\n    </tr>\n    <tr>\n      <th>...</th>\n      <td>...</td>\n      <td>...</td>\n      <td>...</td>\n      <td>...</td>\n      <td>...</td>\n      <td>...</td>\n      <td>...</td>\n      <td>...</td>\n      <td>...</td>\n      <td>...</td>\n    </tr>\n    <tr>\n      <th>9882</th>\n      <td>9882</td>\n      <td>Wagah</td>\n      <td>353415.0</td>\n      <td>In his previous film, Haridas, GNR Kumaravelan...</td>\n      <td>4.400</td>\n      <td>3.0</td>\n      <td>Action,Drama,Romance</td>\n      <td>False</td>\n      <td>2016-08-12</td>\n      <td>Vijay Bhargavi Films</td>\n    </tr>\n    <tr>\n      <th>9883</th>\n      <td>9883</td>\n      <td>Killing Hasselhoff</td>\n      <td>353440.0</td>\n      <td>Not good, but better than I had prepared mysel...</td>\n      <td>4.700</td>\n      <td>4.0</td>\n      <td>Comedy</td>\n      <td>False</td>\n      <td>2017-08-29</td>\n      <td>Lotus Pictures</td>\n    </tr>\n    <tr>\n      <th>9884</th>\n      <td>9884</td>\n      <td>Killing Hasselhoff</td>\n      <td>353440.0</td>\n      <td>Good watch, would watch again, and can recomme...</td>\n      <td>4.700</td>\n      <td>6.0</td>\n      <td>Comedy</td>\n      <td>False</td>\n      <td>2017-08-29</td>\n      <td>Lotus Pictures</td>\n    </tr>\n    <tr>\n      <th>9885</th>\n      <td>9885</td>\n      <td>The Magic Canvas</td>\n      <td>353478.0</td>\n      <td>The opening slide gives us an idea as to what ...</td>\n      <td>7.000</td>\n      <td>7.0</td>\n      <td>Animation</td>\n      <td>False</td>\n      <td>1948-12-30</td>\n      <td>Halas and Batchelor Cartoon Films</td>\n    </tr>\n    <tr>\n      <th>9886</th>\n      <td>9886</td>\n      <td>Jumanji: Welcome to the Jungle</td>\n      <td>353486.0</td>\n      <td>**The 90's Game is back and got even more adve...</td>\n      <td>6.824</td>\n      <td>7.0</td>\n      <td>Adventure,Action,Comedy,Fantasy</td>\n      <td>False</td>\n      <td>2017-12-09</td>\n      <td>Radar Pictures</td>\n    </tr>\n  </tbody>\n</table>\n<p>9887 rows × 10 columns</p>\n</div>"
          },
          "metadata": {}
        }
      ]
    },
    {
      "cell_type": "code",
      "source": [
        "punctuations = '!\"#%&\\'()*+,-./:;<=>?@[\\\\]^_`{|}~'\n",
        "stopword = nltk.corpus.stopwords.words('english')"
      ],
      "metadata": {
        "execution": {
          "iopub.status.busy": "2023-04-06T08:39:29.631397Z",
          "iopub.execute_input": "2023-04-06T08:39:29.631736Z",
          "iopub.status.idle": "2023-04-06T08:39:29.637601Z",
          "shell.execute_reply.started": "2023-04-06T08:39:29.631704Z",
          "shell.execute_reply": "2023-04-06T08:39:29.636428Z"
        },
        "trusted": true,
        "id": "Mteb5JaNxcWz"
      },
      "execution_count": null,
      "outputs": []
    },
    {
      "cell_type": "code",
      "source": [
        "def clean_text(text):\n",
        "    text_noreply = re.sub('Replying to', '', text)\n",
        "    text_nolink = re.sub('(https?:\\/\\/)(\\s)*(www\\.)?(\\s)*((\\w|\\s)+\\.)*([\\w\\-\\s]+\\/)*([\\w\\-]+)((\\?)?[\\w\\s]*=\\s*[\\w\\%&]*)*', '', text_noreply)\n",
        "    text_noname = re.sub('(?<!\\w)@[\\w+]{1,15}', '', text_nolink)\n",
        "    text_punct = \"\".join([word.lower() for word in text_noname if word not in punctuations]) # remove puntuation\n",
        "    text_punct = re.sub('[0-9]+', '', text_punct)\n",
        "    text_tokenized = re.split('[^(A-Za-z0-9_$)]+', text_punct) # tokenization, remove non-words\n",
        "    # text_nonstop = [word for word in text_tokenized if word not in stopword] # remove stopwords and stemming\n",
        "    return \" \".join(text_tokenized)"
      ],
      "metadata": {
        "execution": {
          "iopub.status.busy": "2023-04-06T08:39:40.280677Z",
          "iopub.execute_input": "2023-04-06T08:39:40.281000Z",
          "iopub.status.idle": "2023-04-06T08:39:40.286961Z",
          "shell.execute_reply.started": "2023-04-06T08:39:40.280971Z",
          "shell.execute_reply": "2023-04-06T08:39:40.285911Z"
        },
        "trusted": true,
        "id": "j53V9CB5xcWz"
      },
      "execution_count": null,
      "outputs": []
    },
    {
      "cell_type": "code",
      "source": [
        "tmdb[\"clean_review_content\"] = tmdb[\"Review Content\"].apply(clean_text)\n",
        "tmdb"
      ],
      "metadata": {
        "execution": {
          "iopub.status.busy": "2023-04-06T08:41:59.675567Z",
          "iopub.execute_input": "2023-04-06T08:41:59.675950Z",
          "iopub.status.idle": "2023-04-06T08:42:03.214352Z",
          "shell.execute_reply.started": "2023-04-06T08:41:59.675913Z",
          "shell.execute_reply": "2023-04-06T08:42:03.213381Z"
        },
        "trusted": true,
        "id": "UPmo0hUvxcW0",
        "outputId": "f81bd79f-bc31-4041-cfc4-aaba56adb42a"
      },
      "execution_count": null,
      "outputs": [
        {
          "execution_count": 32,
          "output_type": "execute_result",
          "data": {
            "text/plain": "      Unnamed: 0                      Movie Name  Movie Id  \\\n0              0             Shadows in Paradise       3.0   \n1              1                 American Beauty      14.0   \n2              2                    Citizen Kane      15.0   \n3              3              Dancer in the Dark      16.0   \n4              4               The Fifth Element      18.0   \n...          ...                             ...       ...   \n9882        9882                           Wagah  353415.0   \n9883        9883              Killing Hasselhoff  353440.0   \n9884        9884              Killing Hasselhoff  353440.0   \n9885        9885                The Magic Canvas  353478.0   \n9886        9886  Jumanji: Welcome to the Jungle  353486.0   \n\n                                         Review Content  tmdb Rating  \\\n0     Released in 1986, Aki Kaurismaki's <i>Varjoja ...        7.184   \n1     The film American Beauty to me is a film about...        8.030   \n2     \"The Greatest Movie of All Time!\" That's the g...        8.023   \n3     Dazzling Björk in this indictment against the ...        7.889   \n4     This movie is one of the best movies of all ti...        7.524   \n...                                                 ...          ...   \n9882  In his previous film, Haridas, GNR Kumaravelan...        4.400   \n9883  Not good, but better than I had prepared mysel...        4.700   \n9884  Good watch, would watch again, and can recomme...        4.700   \n9885  The opening slide gives us an idea as to what ...        7.000   \n9886  **The 90's Game is back and got even more adve...        6.824   \n\n      User Rating                                           Genre(s)  \\\n0             7.0                               Drama,Comedy,Romance   \n1            10.0                                              Drama   \n2             9.0                                      Mystery,Drama   \n3            10.0                                        Drama,Crime   \n4             9.5  Adventure,Fantasy,Action,Thriller,Science Fiction   \n...           ...                                                ...   \n9882          3.0                               Action,Drama,Romance   \n9883          4.0                                             Comedy   \n9884          6.0                                             Comedy   \n9885          7.0                                          Animation   \n9886          7.0                    Adventure,Action,Comedy,Fantasy   \n\n      Not A Movie? Release Date                 Production Company  \\\n0            False   1986-10-17          Villealfa Filmproductions   \n1            False   1999-09-15                Jinks/Cohen Company   \n2            False   1941-04-17                Mercury Productions   \n3            False   2000-06-30        Lantia Cinema & Audiovisivi   \n4            False   1997-05-02                            Gaumont   \n...            ...          ...                                ...   \n9882         False   2016-08-12               Vijay Bhargavi Films   \n9883         False   2017-08-29                     Lotus Pictures   \n9884         False   2017-08-29                     Lotus Pictures   \n9885         False   1948-12-30  Halas and Batchelor Cartoon Films   \n9886         False   2017-12-09                     Radar Pictures   \n\n                                   clean_review_content  \n0     released in aki kaurismakis ivarjoja paratiisi...  \n1     the film american beauty to me is a film about...  \n2     the greatest movie of all time thats the gener...  \n3     dazzling bj rk in this indictment against the ...  \n4     this movie is one of the best movies of all ti...  \n...                                                 ...  \n9882  in his previous film haridas gnr kumaravelan m...  \n9883  not good but better than i had prepared myself...  \n9884  good watch would watch again and can recommend...  \n9885  the opening slide gives us an idea as to what ...  \n9886  the s game is back and got even more adventuro...  \n\n[9887 rows x 11 columns]",
            "text/html": "<div>\n<style scoped>\n    .dataframe tbody tr th:only-of-type {\n        vertical-align: middle;\n    }\n\n    .dataframe tbody tr th {\n        vertical-align: top;\n    }\n\n    .dataframe thead th {\n        text-align: right;\n    }\n</style>\n<table border=\"1\" class=\"dataframe\">\n  <thead>\n    <tr style=\"text-align: right;\">\n      <th></th>\n      <th>Unnamed: 0</th>\n      <th>Movie Name</th>\n      <th>Movie Id</th>\n      <th>Review Content</th>\n      <th>tmdb Rating</th>\n      <th>User Rating</th>\n      <th>Genre(s)</th>\n      <th>Not A Movie?</th>\n      <th>Release Date</th>\n      <th>Production Company</th>\n      <th>clean_review_content</th>\n    </tr>\n  </thead>\n  <tbody>\n    <tr>\n      <th>0</th>\n      <td>0</td>\n      <td>Shadows in Paradise</td>\n      <td>3.0</td>\n      <td>Released in 1986, Aki Kaurismaki's &lt;i&gt;Varjoja ...</td>\n      <td>7.184</td>\n      <td>7.0</td>\n      <td>Drama,Comedy,Romance</td>\n      <td>False</td>\n      <td>1986-10-17</td>\n      <td>Villealfa Filmproductions</td>\n      <td>released in aki kaurismakis ivarjoja paratiisi...</td>\n    </tr>\n    <tr>\n      <th>1</th>\n      <td>1</td>\n      <td>American Beauty</td>\n      <td>14.0</td>\n      <td>The film American Beauty to me is a film about...</td>\n      <td>8.030</td>\n      <td>10.0</td>\n      <td>Drama</td>\n      <td>False</td>\n      <td>1999-09-15</td>\n      <td>Jinks/Cohen Company</td>\n      <td>the film american beauty to me is a film about...</td>\n    </tr>\n    <tr>\n      <th>2</th>\n      <td>2</td>\n      <td>Citizen Kane</td>\n      <td>15.0</td>\n      <td>\"The Greatest Movie of All Time!\" That's the g...</td>\n      <td>8.023</td>\n      <td>9.0</td>\n      <td>Mystery,Drama</td>\n      <td>False</td>\n      <td>1941-04-17</td>\n      <td>Mercury Productions</td>\n      <td>the greatest movie of all time thats the gener...</td>\n    </tr>\n    <tr>\n      <th>3</th>\n      <td>3</td>\n      <td>Dancer in the Dark</td>\n      <td>16.0</td>\n      <td>Dazzling Björk in this indictment against the ...</td>\n      <td>7.889</td>\n      <td>10.0</td>\n      <td>Drama,Crime</td>\n      <td>False</td>\n      <td>2000-06-30</td>\n      <td>Lantia Cinema &amp; Audiovisivi</td>\n      <td>dazzling bj rk in this indictment against the ...</td>\n    </tr>\n    <tr>\n      <th>4</th>\n      <td>4</td>\n      <td>The Fifth Element</td>\n      <td>18.0</td>\n      <td>This movie is one of the best movies of all ti...</td>\n      <td>7.524</td>\n      <td>9.5</td>\n      <td>Adventure,Fantasy,Action,Thriller,Science Fiction</td>\n      <td>False</td>\n      <td>1997-05-02</td>\n      <td>Gaumont</td>\n      <td>this movie is one of the best movies of all ti...</td>\n    </tr>\n    <tr>\n      <th>...</th>\n      <td>...</td>\n      <td>...</td>\n      <td>...</td>\n      <td>...</td>\n      <td>...</td>\n      <td>...</td>\n      <td>...</td>\n      <td>...</td>\n      <td>...</td>\n      <td>...</td>\n      <td>...</td>\n    </tr>\n    <tr>\n      <th>9882</th>\n      <td>9882</td>\n      <td>Wagah</td>\n      <td>353415.0</td>\n      <td>In his previous film, Haridas, GNR Kumaravelan...</td>\n      <td>4.400</td>\n      <td>3.0</td>\n      <td>Action,Drama,Romance</td>\n      <td>False</td>\n      <td>2016-08-12</td>\n      <td>Vijay Bhargavi Films</td>\n      <td>in his previous film haridas gnr kumaravelan m...</td>\n    </tr>\n    <tr>\n      <th>9883</th>\n      <td>9883</td>\n      <td>Killing Hasselhoff</td>\n      <td>353440.0</td>\n      <td>Not good, but better than I had prepared mysel...</td>\n      <td>4.700</td>\n      <td>4.0</td>\n      <td>Comedy</td>\n      <td>False</td>\n      <td>2017-08-29</td>\n      <td>Lotus Pictures</td>\n      <td>not good but better than i had prepared myself...</td>\n    </tr>\n    <tr>\n      <th>9884</th>\n      <td>9884</td>\n      <td>Killing Hasselhoff</td>\n      <td>353440.0</td>\n      <td>Good watch, would watch again, and can recomme...</td>\n      <td>4.700</td>\n      <td>6.0</td>\n      <td>Comedy</td>\n      <td>False</td>\n      <td>2017-08-29</td>\n      <td>Lotus Pictures</td>\n      <td>good watch would watch again and can recommend...</td>\n    </tr>\n    <tr>\n      <th>9885</th>\n      <td>9885</td>\n      <td>The Magic Canvas</td>\n      <td>353478.0</td>\n      <td>The opening slide gives us an idea as to what ...</td>\n      <td>7.000</td>\n      <td>7.0</td>\n      <td>Animation</td>\n      <td>False</td>\n      <td>1948-12-30</td>\n      <td>Halas and Batchelor Cartoon Films</td>\n      <td>the opening slide gives us an idea as to what ...</td>\n    </tr>\n    <tr>\n      <th>9886</th>\n      <td>9886</td>\n      <td>Jumanji: Welcome to the Jungle</td>\n      <td>353486.0</td>\n      <td>**The 90's Game is back and got even more adve...</td>\n      <td>6.824</td>\n      <td>7.0</td>\n      <td>Adventure,Action,Comedy,Fantasy</td>\n      <td>False</td>\n      <td>2017-12-09</td>\n      <td>Radar Pictures</td>\n      <td>the s game is back and got even more adventuro...</td>\n    </tr>\n  </tbody>\n</table>\n<p>9887 rows × 11 columns</p>\n</div>"
          },
          "metadata": {}
        }
      ]
    },
    {
      "cell_type": "code",
      "source": [
        "TMDB_test = tmdb['clean_review_content']\n",
        "tmdb_test = fast_encode(TMDB_test.values, fast_tokenizer, maxlen=400)"
      ],
      "metadata": {
        "execution": {
          "iopub.status.busy": "2023-04-06T08:46:58.325726Z",
          "iopub.execute_input": "2023-04-06T08:46:58.326049Z",
          "iopub.status.idle": "2023-04-06T08:47:03.168700Z",
          "shell.execute_reply.started": "2023-04-06T08:46:58.326018Z",
          "shell.execute_reply": "2023-04-06T08:47:03.167886Z"
        },
        "trusted": true,
        "id": "9_apN58UxcW0"
      },
      "execution_count": null,
      "outputs": []
    },
    {
      "cell_type": "code",
      "source": [
        "tmdb_pred = model.predict(tmdb_test)\n",
        "tmdb_pred = np.round(tmdb_pred).astype(int)\n",
        "pred[:5]"
      ],
      "metadata": {
        "execution": {
          "iopub.status.busy": "2023-04-06T08:47:07.489643Z",
          "iopub.execute_input": "2023-04-06T08:47:07.489985Z",
          "iopub.status.idle": "2023-04-06T08:48:24.349452Z",
          "shell.execute_reply.started": "2023-04-06T08:47:07.489952Z",
          "shell.execute_reply": "2023-04-06T08:48:24.348488Z"
        },
        "trusted": true,
        "id": "g-DQpL3kxcW0",
        "outputId": "629252a9-a4f1-4654-bc77-704bf1642458"
      },
      "execution_count": null,
      "outputs": [
        {
          "execution_count": 35,
          "output_type": "execute_result",
          "data": {
            "text/plain": "array([[1],\n       [1],\n       [0],\n       [0],\n       [0]])"
          },
          "metadata": {}
        }
      ]
    },
    {
      "cell_type": "code",
      "source": [
        "sarcasm = pd.DataFrame(tmdb_pred)\n",
        "sarcasm.columns"
      ],
      "metadata": {
        "execution": {
          "iopub.status.busy": "2023-04-06T08:51:14.638026Z",
          "iopub.execute_input": "2023-04-06T08:51:14.638347Z",
          "iopub.status.idle": "2023-04-06T08:51:14.645151Z",
          "shell.execute_reply.started": "2023-04-06T08:51:14.638317Z",
          "shell.execute_reply": "2023-04-06T08:51:14.644060Z"
        },
        "trusted": true,
        "id": "lH2cARLcxcW0",
        "outputId": "e6ea0611-1b73-4b14-b1c4-c35960ee6294"
      },
      "execution_count": null,
      "outputs": [
        {
          "execution_count": 41,
          "output_type": "execute_result",
          "data": {
            "text/plain": "RangeIndex(start=0, stop=1, step=1)"
          },
          "metadata": {}
        }
      ]
    },
    {
      "cell_type": "code",
      "source": [
        "tmdb.columns"
      ],
      "metadata": {
        "execution": {
          "iopub.status.busy": "2023-04-06T08:50:33.406107Z",
          "iopub.execute_input": "2023-04-06T08:50:33.406458Z",
          "iopub.status.idle": "2023-04-06T08:50:33.412331Z",
          "shell.execute_reply.started": "2023-04-06T08:50:33.406426Z",
          "shell.execute_reply": "2023-04-06T08:50:33.411479Z"
        },
        "trusted": true,
        "id": "cEfkg_3ZxcW1",
        "outputId": "e01325a9-8583-4e1e-94c4-e655b5690992"
      },
      "execution_count": null,
      "outputs": [
        {
          "execution_count": 39,
          "output_type": "execute_result",
          "data": {
            "text/plain": "Index(['Unnamed: 0', 'Movie Name', 'Movie Id', 'Review Content', 'tmdb Rating',\n       'User Rating', 'Genre(s)', 'Not A Movie?', 'Release Date',\n       'Production Company', 'clean_review_content'],\n      dtype='object')"
          },
          "metadata": {}
        }
      ]
    },
    {
      "cell_type": "code",
      "source": [
        "tmdb['Sarcasm'] = sarcasm"
      ],
      "metadata": {
        "execution": {
          "iopub.status.busy": "2023-04-06T08:52:52.044007Z",
          "iopub.execute_input": "2023-04-06T08:52:52.044336Z",
          "iopub.status.idle": "2023-04-06T08:52:52.050298Z",
          "shell.execute_reply.started": "2023-04-06T08:52:52.044304Z",
          "shell.execute_reply": "2023-04-06T08:52:52.049383Z"
        },
        "trusted": true,
        "id": "P_UBCr2hxcW1"
      },
      "execution_count": null,
      "outputs": []
    },
    {
      "cell_type": "code",
      "source": [
        "tmdb"
      ],
      "metadata": {
        "execution": {
          "iopub.status.busy": "2023-04-06T08:53:07.181339Z",
          "iopub.execute_input": "2023-04-06T08:53:07.181706Z",
          "iopub.status.idle": "2023-04-06T08:53:07.214256Z",
          "shell.execute_reply.started": "2023-04-06T08:53:07.181675Z",
          "shell.execute_reply": "2023-04-06T08:53:07.213291Z"
        },
        "trusted": true,
        "id": "EZikcmtTxcW1",
        "outputId": "e65adfd4-8d27-4b26-9b6a-4f7aba0319da"
      },
      "execution_count": null,
      "outputs": [
        {
          "execution_count": 43,
          "output_type": "execute_result",
          "data": {
            "text/plain": "      Unnamed: 0                      Movie Name  Movie Id  \\\n0              0             Shadows in Paradise       3.0   \n1              1                 American Beauty      14.0   \n2              2                    Citizen Kane      15.0   \n3              3              Dancer in the Dark      16.0   \n4              4               The Fifth Element      18.0   \n...          ...                             ...       ...   \n9882        9882                           Wagah  353415.0   \n9883        9883              Killing Hasselhoff  353440.0   \n9884        9884              Killing Hasselhoff  353440.0   \n9885        9885                The Magic Canvas  353478.0   \n9886        9886  Jumanji: Welcome to the Jungle  353486.0   \n\n                                         Review Content  tmdb Rating  \\\n0     Released in 1986, Aki Kaurismaki's <i>Varjoja ...        7.184   \n1     The film American Beauty to me is a film about...        8.030   \n2     \"The Greatest Movie of All Time!\" That's the g...        8.023   \n3     Dazzling Björk in this indictment against the ...        7.889   \n4     This movie is one of the best movies of all ti...        7.524   \n...                                                 ...          ...   \n9882  In his previous film, Haridas, GNR Kumaravelan...        4.400   \n9883  Not good, but better than I had prepared mysel...        4.700   \n9884  Good watch, would watch again, and can recomme...        4.700   \n9885  The opening slide gives us an idea as to what ...        7.000   \n9886  **The 90's Game is back and got even more adve...        6.824   \n\n      User Rating                                           Genre(s)  \\\n0             7.0                               Drama,Comedy,Romance   \n1            10.0                                              Drama   \n2             9.0                                      Mystery,Drama   \n3            10.0                                        Drama,Crime   \n4             9.5  Adventure,Fantasy,Action,Thriller,Science Fiction   \n...           ...                                                ...   \n9882          3.0                               Action,Drama,Romance   \n9883          4.0                                             Comedy   \n9884          6.0                                             Comedy   \n9885          7.0                                          Animation   \n9886          7.0                    Adventure,Action,Comedy,Fantasy   \n\n      Not A Movie? Release Date                 Production Company  \\\n0            False   1986-10-17          Villealfa Filmproductions   \n1            False   1999-09-15                Jinks/Cohen Company   \n2            False   1941-04-17                Mercury Productions   \n3            False   2000-06-30        Lantia Cinema & Audiovisivi   \n4            False   1997-05-02                            Gaumont   \n...            ...          ...                                ...   \n9882         False   2016-08-12               Vijay Bhargavi Films   \n9883         False   2017-08-29                     Lotus Pictures   \n9884         False   2017-08-29                     Lotus Pictures   \n9885         False   1948-12-30  Halas and Batchelor Cartoon Films   \n9886         False   2017-12-09                     Radar Pictures   \n\n                                   clean_review_content  Sarcasm  \n0     released in aki kaurismakis ivarjoja paratiisi...        1  \n1     the film american beauty to me is a film about...        1  \n2     the greatest movie of all time thats the gener...        1  \n3     dazzling bj rk in this indictment against the ...        0  \n4     this movie is one of the best movies of all ti...        1  \n...                                                 ...      ...  \n9882  in his previous film haridas gnr kumaravelan m...        1  \n9883  not good but better than i had prepared myself...        1  \n9884  good watch would watch again and can recommend...        1  \n9885  the opening slide gives us an idea as to what ...        1  \n9886  the s game is back and got even more adventuro...        1  \n\n[9887 rows x 12 columns]",
            "text/html": "<div>\n<style scoped>\n    .dataframe tbody tr th:only-of-type {\n        vertical-align: middle;\n    }\n\n    .dataframe tbody tr th {\n        vertical-align: top;\n    }\n\n    .dataframe thead th {\n        text-align: right;\n    }\n</style>\n<table border=\"1\" class=\"dataframe\">\n  <thead>\n    <tr style=\"text-align: right;\">\n      <th></th>\n      <th>Unnamed: 0</th>\n      <th>Movie Name</th>\n      <th>Movie Id</th>\n      <th>Review Content</th>\n      <th>tmdb Rating</th>\n      <th>User Rating</th>\n      <th>Genre(s)</th>\n      <th>Not A Movie?</th>\n      <th>Release Date</th>\n      <th>Production Company</th>\n      <th>clean_review_content</th>\n      <th>Sarcasm</th>\n    </tr>\n  </thead>\n  <tbody>\n    <tr>\n      <th>0</th>\n      <td>0</td>\n      <td>Shadows in Paradise</td>\n      <td>3.0</td>\n      <td>Released in 1986, Aki Kaurismaki's &lt;i&gt;Varjoja ...</td>\n      <td>7.184</td>\n      <td>7.0</td>\n      <td>Drama,Comedy,Romance</td>\n      <td>False</td>\n      <td>1986-10-17</td>\n      <td>Villealfa Filmproductions</td>\n      <td>released in aki kaurismakis ivarjoja paratiisi...</td>\n      <td>1</td>\n    </tr>\n    <tr>\n      <th>1</th>\n      <td>1</td>\n      <td>American Beauty</td>\n      <td>14.0</td>\n      <td>The film American Beauty to me is a film about...</td>\n      <td>8.030</td>\n      <td>10.0</td>\n      <td>Drama</td>\n      <td>False</td>\n      <td>1999-09-15</td>\n      <td>Jinks/Cohen Company</td>\n      <td>the film american beauty to me is a film about...</td>\n      <td>1</td>\n    </tr>\n    <tr>\n      <th>2</th>\n      <td>2</td>\n      <td>Citizen Kane</td>\n      <td>15.0</td>\n      <td>\"The Greatest Movie of All Time!\" That's the g...</td>\n      <td>8.023</td>\n      <td>9.0</td>\n      <td>Mystery,Drama</td>\n      <td>False</td>\n      <td>1941-04-17</td>\n      <td>Mercury Productions</td>\n      <td>the greatest movie of all time thats the gener...</td>\n      <td>1</td>\n    </tr>\n    <tr>\n      <th>3</th>\n      <td>3</td>\n      <td>Dancer in the Dark</td>\n      <td>16.0</td>\n      <td>Dazzling Björk in this indictment against the ...</td>\n      <td>7.889</td>\n      <td>10.0</td>\n      <td>Drama,Crime</td>\n      <td>False</td>\n      <td>2000-06-30</td>\n      <td>Lantia Cinema &amp; Audiovisivi</td>\n      <td>dazzling bj rk in this indictment against the ...</td>\n      <td>0</td>\n    </tr>\n    <tr>\n      <th>4</th>\n      <td>4</td>\n      <td>The Fifth Element</td>\n      <td>18.0</td>\n      <td>This movie is one of the best movies of all ti...</td>\n      <td>7.524</td>\n      <td>9.5</td>\n      <td>Adventure,Fantasy,Action,Thriller,Science Fiction</td>\n      <td>False</td>\n      <td>1997-05-02</td>\n      <td>Gaumont</td>\n      <td>this movie is one of the best movies of all ti...</td>\n      <td>1</td>\n    </tr>\n    <tr>\n      <th>...</th>\n      <td>...</td>\n      <td>...</td>\n      <td>...</td>\n      <td>...</td>\n      <td>...</td>\n      <td>...</td>\n      <td>...</td>\n      <td>...</td>\n      <td>...</td>\n      <td>...</td>\n      <td>...</td>\n      <td>...</td>\n    </tr>\n    <tr>\n      <th>9882</th>\n      <td>9882</td>\n      <td>Wagah</td>\n      <td>353415.0</td>\n      <td>In his previous film, Haridas, GNR Kumaravelan...</td>\n      <td>4.400</td>\n      <td>3.0</td>\n      <td>Action,Drama,Romance</td>\n      <td>False</td>\n      <td>2016-08-12</td>\n      <td>Vijay Bhargavi Films</td>\n      <td>in his previous film haridas gnr kumaravelan m...</td>\n      <td>1</td>\n    </tr>\n    <tr>\n      <th>9883</th>\n      <td>9883</td>\n      <td>Killing Hasselhoff</td>\n      <td>353440.0</td>\n      <td>Not good, but better than I had prepared mysel...</td>\n      <td>4.700</td>\n      <td>4.0</td>\n      <td>Comedy</td>\n      <td>False</td>\n      <td>2017-08-29</td>\n      <td>Lotus Pictures</td>\n      <td>not good but better than i had prepared myself...</td>\n      <td>1</td>\n    </tr>\n    <tr>\n      <th>9884</th>\n      <td>9884</td>\n      <td>Killing Hasselhoff</td>\n      <td>353440.0</td>\n      <td>Good watch, would watch again, and can recomme...</td>\n      <td>4.700</td>\n      <td>6.0</td>\n      <td>Comedy</td>\n      <td>False</td>\n      <td>2017-08-29</td>\n      <td>Lotus Pictures</td>\n      <td>good watch would watch again and can recommend...</td>\n      <td>1</td>\n    </tr>\n    <tr>\n      <th>9885</th>\n      <td>9885</td>\n      <td>The Magic Canvas</td>\n      <td>353478.0</td>\n      <td>The opening slide gives us an idea as to what ...</td>\n      <td>7.000</td>\n      <td>7.0</td>\n      <td>Animation</td>\n      <td>False</td>\n      <td>1948-12-30</td>\n      <td>Halas and Batchelor Cartoon Films</td>\n      <td>the opening slide gives us an idea as to what ...</td>\n      <td>1</td>\n    </tr>\n    <tr>\n      <th>9886</th>\n      <td>9886</td>\n      <td>Jumanji: Welcome to the Jungle</td>\n      <td>353486.0</td>\n      <td>**The 90's Game is back and got even more adve...</td>\n      <td>6.824</td>\n      <td>7.0</td>\n      <td>Adventure,Action,Comedy,Fantasy</td>\n      <td>False</td>\n      <td>2017-12-09</td>\n      <td>Radar Pictures</td>\n      <td>the s game is back and got even more adventuro...</td>\n      <td>1</td>\n    </tr>\n  </tbody>\n</table>\n<p>9887 rows × 12 columns</p>\n</div>"
          },
          "metadata": {}
        }
      ]
    },
    {
      "cell_type": "code",
      "source": [
        "tmdb['Sarcasm'] = tmdb['Sarcasm'].map({0: 'not sarcastic', 1: 'sarcastic'})"
      ],
      "metadata": {
        "execution": {
          "iopub.status.busy": "2023-04-06T08:57:49.876426Z",
          "iopub.execute_input": "2023-04-06T08:57:49.876770Z",
          "iopub.status.idle": "2023-04-06T08:57:49.886913Z",
          "shell.execute_reply.started": "2023-04-06T08:57:49.876741Z",
          "shell.execute_reply": "2023-04-06T08:57:49.885686Z"
        },
        "trusted": true,
        "id": "9s3AcPIGxcW2"
      },
      "execution_count": null,
      "outputs": []
    },
    {
      "cell_type": "code",
      "source": [
        "tmdb = tmdb.drop('clean_review_content', axis=1)"
      ],
      "metadata": {
        "execution": {
          "iopub.status.busy": "2023-04-06T08:58:38.545930Z",
          "iopub.execute_input": "2023-04-06T08:58:38.546248Z",
          "iopub.status.idle": "2023-04-06T08:58:38.556212Z",
          "shell.execute_reply.started": "2023-04-06T08:58:38.546212Z",
          "shell.execute_reply": "2023-04-06T08:58:38.555232Z"
        },
        "trusted": true,
        "id": "DUJ6N_B9xcW2"
      },
      "execution_count": null,
      "outputs": []
    },
    {
      "cell_type": "code",
      "source": [
        "tmdb"
      ],
      "metadata": {
        "execution": {
          "iopub.status.busy": "2023-04-06T08:58:42.055612Z",
          "iopub.execute_input": "2023-04-06T08:58:42.055939Z",
          "iopub.status.idle": "2023-04-06T08:58:42.083855Z",
          "shell.execute_reply.started": "2023-04-06T08:58:42.055909Z",
          "shell.execute_reply": "2023-04-06T08:58:42.082957Z"
        },
        "trusted": true,
        "id": "jtUeITTMxcW2",
        "outputId": "3ab5c8f0-c611-409d-f08e-383eb34637a8"
      },
      "execution_count": null,
      "outputs": [
        {
          "execution_count": 51,
          "output_type": "execute_result",
          "data": {
            "text/plain": "      Unnamed: 0                      Movie Name  Movie Id  \\\n0              0             Shadows in Paradise       3.0   \n1              1                 American Beauty      14.0   \n2              2                    Citizen Kane      15.0   \n3              3              Dancer in the Dark      16.0   \n4              4               The Fifth Element      18.0   \n...          ...                             ...       ...   \n9882        9882                           Wagah  353415.0   \n9883        9883              Killing Hasselhoff  353440.0   \n9884        9884              Killing Hasselhoff  353440.0   \n9885        9885                The Magic Canvas  353478.0   \n9886        9886  Jumanji: Welcome to the Jungle  353486.0   \n\n                                         Review Content  tmdb Rating  \\\n0     Released in 1986, Aki Kaurismaki's <i>Varjoja ...        7.184   \n1     The film American Beauty to me is a film about...        8.030   \n2     \"The Greatest Movie of All Time!\" That's the g...        8.023   \n3     Dazzling Björk in this indictment against the ...        7.889   \n4     This movie is one of the best movies of all ti...        7.524   \n...                                                 ...          ...   \n9882  In his previous film, Haridas, GNR Kumaravelan...        4.400   \n9883  Not good, but better than I had prepared mysel...        4.700   \n9884  Good watch, would watch again, and can recomme...        4.700   \n9885  The opening slide gives us an idea as to what ...        7.000   \n9886  **The 90's Game is back and got even more adve...        6.824   \n\n      User Rating                                           Genre(s)  \\\n0             7.0                               Drama,Comedy,Romance   \n1            10.0                                              Drama   \n2             9.0                                      Mystery,Drama   \n3            10.0                                        Drama,Crime   \n4             9.5  Adventure,Fantasy,Action,Thriller,Science Fiction   \n...           ...                                                ...   \n9882          3.0                               Action,Drama,Romance   \n9883          4.0                                             Comedy   \n9884          6.0                                             Comedy   \n9885          7.0                                          Animation   \n9886          7.0                    Adventure,Action,Comedy,Fantasy   \n\n      Not A Movie? Release Date                 Production Company  \\\n0            False   1986-10-17          Villealfa Filmproductions   \n1            False   1999-09-15                Jinks/Cohen Company   \n2            False   1941-04-17                Mercury Productions   \n3            False   2000-06-30        Lantia Cinema & Audiovisivi   \n4            False   1997-05-02                            Gaumont   \n...            ...          ...                                ...   \n9882         False   2016-08-12               Vijay Bhargavi Films   \n9883         False   2017-08-29                     Lotus Pictures   \n9884         False   2017-08-29                     Lotus Pictures   \n9885         False   1948-12-30  Halas and Batchelor Cartoon Films   \n9886         False   2017-12-09                     Radar Pictures   \n\n            Sarcasm  \n0         sarcastic  \n1         sarcastic  \n2         sarcastic  \n3     not sarcastic  \n4         sarcastic  \n...             ...  \n9882      sarcastic  \n9883      sarcastic  \n9884      sarcastic  \n9885      sarcastic  \n9886      sarcastic  \n\n[9887 rows x 11 columns]",
            "text/html": "<div>\n<style scoped>\n    .dataframe tbody tr th:only-of-type {\n        vertical-align: middle;\n    }\n\n    .dataframe tbody tr th {\n        vertical-align: top;\n    }\n\n    .dataframe thead th {\n        text-align: right;\n    }\n</style>\n<table border=\"1\" class=\"dataframe\">\n  <thead>\n    <tr style=\"text-align: right;\">\n      <th></th>\n      <th>Unnamed: 0</th>\n      <th>Movie Name</th>\n      <th>Movie Id</th>\n      <th>Review Content</th>\n      <th>tmdb Rating</th>\n      <th>User Rating</th>\n      <th>Genre(s)</th>\n      <th>Not A Movie?</th>\n      <th>Release Date</th>\n      <th>Production Company</th>\n      <th>Sarcasm</th>\n    </tr>\n  </thead>\n  <tbody>\n    <tr>\n      <th>0</th>\n      <td>0</td>\n      <td>Shadows in Paradise</td>\n      <td>3.0</td>\n      <td>Released in 1986, Aki Kaurismaki's &lt;i&gt;Varjoja ...</td>\n      <td>7.184</td>\n      <td>7.0</td>\n      <td>Drama,Comedy,Romance</td>\n      <td>False</td>\n      <td>1986-10-17</td>\n      <td>Villealfa Filmproductions</td>\n      <td>sarcastic</td>\n    </tr>\n    <tr>\n      <th>1</th>\n      <td>1</td>\n      <td>American Beauty</td>\n      <td>14.0</td>\n      <td>The film American Beauty to me is a film about...</td>\n      <td>8.030</td>\n      <td>10.0</td>\n      <td>Drama</td>\n      <td>False</td>\n      <td>1999-09-15</td>\n      <td>Jinks/Cohen Company</td>\n      <td>sarcastic</td>\n    </tr>\n    <tr>\n      <th>2</th>\n      <td>2</td>\n      <td>Citizen Kane</td>\n      <td>15.0</td>\n      <td>\"The Greatest Movie of All Time!\" That's the g...</td>\n      <td>8.023</td>\n      <td>9.0</td>\n      <td>Mystery,Drama</td>\n      <td>False</td>\n      <td>1941-04-17</td>\n      <td>Mercury Productions</td>\n      <td>sarcastic</td>\n    </tr>\n    <tr>\n      <th>3</th>\n      <td>3</td>\n      <td>Dancer in the Dark</td>\n      <td>16.0</td>\n      <td>Dazzling Björk in this indictment against the ...</td>\n      <td>7.889</td>\n      <td>10.0</td>\n      <td>Drama,Crime</td>\n      <td>False</td>\n      <td>2000-06-30</td>\n      <td>Lantia Cinema &amp; Audiovisivi</td>\n      <td>not sarcastic</td>\n    </tr>\n    <tr>\n      <th>4</th>\n      <td>4</td>\n      <td>The Fifth Element</td>\n      <td>18.0</td>\n      <td>This movie is one of the best movies of all ti...</td>\n      <td>7.524</td>\n      <td>9.5</td>\n      <td>Adventure,Fantasy,Action,Thriller,Science Fiction</td>\n      <td>False</td>\n      <td>1997-05-02</td>\n      <td>Gaumont</td>\n      <td>sarcastic</td>\n    </tr>\n    <tr>\n      <th>...</th>\n      <td>...</td>\n      <td>...</td>\n      <td>...</td>\n      <td>...</td>\n      <td>...</td>\n      <td>...</td>\n      <td>...</td>\n      <td>...</td>\n      <td>...</td>\n      <td>...</td>\n      <td>...</td>\n    </tr>\n    <tr>\n      <th>9882</th>\n      <td>9882</td>\n      <td>Wagah</td>\n      <td>353415.0</td>\n      <td>In his previous film, Haridas, GNR Kumaravelan...</td>\n      <td>4.400</td>\n      <td>3.0</td>\n      <td>Action,Drama,Romance</td>\n      <td>False</td>\n      <td>2016-08-12</td>\n      <td>Vijay Bhargavi Films</td>\n      <td>sarcastic</td>\n    </tr>\n    <tr>\n      <th>9883</th>\n      <td>9883</td>\n      <td>Killing Hasselhoff</td>\n      <td>353440.0</td>\n      <td>Not good, but better than I had prepared mysel...</td>\n      <td>4.700</td>\n      <td>4.0</td>\n      <td>Comedy</td>\n      <td>False</td>\n      <td>2017-08-29</td>\n      <td>Lotus Pictures</td>\n      <td>sarcastic</td>\n    </tr>\n    <tr>\n      <th>9884</th>\n      <td>9884</td>\n      <td>Killing Hasselhoff</td>\n      <td>353440.0</td>\n      <td>Good watch, would watch again, and can recomme...</td>\n      <td>4.700</td>\n      <td>6.0</td>\n      <td>Comedy</td>\n      <td>False</td>\n      <td>2017-08-29</td>\n      <td>Lotus Pictures</td>\n      <td>sarcastic</td>\n    </tr>\n    <tr>\n      <th>9885</th>\n      <td>9885</td>\n      <td>The Magic Canvas</td>\n      <td>353478.0</td>\n      <td>The opening slide gives us an idea as to what ...</td>\n      <td>7.000</td>\n      <td>7.0</td>\n      <td>Animation</td>\n      <td>False</td>\n      <td>1948-12-30</td>\n      <td>Halas and Batchelor Cartoon Films</td>\n      <td>sarcastic</td>\n    </tr>\n    <tr>\n      <th>9886</th>\n      <td>9886</td>\n      <td>Jumanji: Welcome to the Jungle</td>\n      <td>353486.0</td>\n      <td>**The 90's Game is back and got even more adve...</td>\n      <td>6.824</td>\n      <td>7.0</td>\n      <td>Adventure,Action,Comedy,Fantasy</td>\n      <td>False</td>\n      <td>2017-12-09</td>\n      <td>Radar Pictures</td>\n      <td>sarcastic</td>\n    </tr>\n  </tbody>\n</table>\n<p>9887 rows × 11 columns</p>\n</div>"
          },
          "metadata": {}
        }
      ]
    },
    {
      "cell_type": "code",
      "source": [
        "tmdb.to_csv('cleaned_tmdb_with_sarcasm.csv', index=False)"
      ],
      "metadata": {
        "execution": {
          "iopub.status.busy": "2023-04-06T09:00:08.897365Z",
          "iopub.execute_input": "2023-04-06T09:00:08.897718Z",
          "iopub.status.idle": "2023-04-06T09:00:09.186350Z",
          "shell.execute_reply.started": "2023-04-06T09:00:08.897685Z",
          "shell.execute_reply": "2023-04-06T09:00:09.185580Z"
        },
        "trusted": true,
        "id": "Kru8HTyYxcW2"
      },
      "execution_count": null,
      "outputs": []
    },
    {
      "cell_type": "code",
      "source": [],
      "metadata": {
        "id": "xxEttG-FxcW2"
      },
      "execution_count": null,
      "outputs": []
    }
  ]
}