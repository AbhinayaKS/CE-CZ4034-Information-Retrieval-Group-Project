{
 "cells": [
  {
   "cell_type": "markdown",
   "metadata": {},
   "source": [
    "**Import required libraries and dependencies:**\n",
    "\n",
    "**Required: tmdb API Key (sign-up at tmdb website)**"
   ]
  },
  {
   "cell_type": "code",
   "execution_count": null,
   "metadata": {},
   "outputs": [],
   "source": [
    "import tmdbsimple as tmdb\n",
    "import requests\n",
    "import pandas as pd\n",
    "tmdb.API_KEY = '9bf602d556fc87283e2577bc183b8492'\n",
    "tmdb.REQUESTS_TIMEOUT = 5  # seconds, for both connect and read"
   ]
  },
  {
   "cell_type": "markdown",
   "metadata": {},
   "source": [
    "**Defined a list for each columns/fields to store the values when scraping:**"
   ]
  },
  {
   "cell_type": "code",
   "execution_count": 7,
   "metadata": {},
   "outputs": [],
   "source": [
    "listNames=[]\n",
    "listReviews=[]\n",
    "listOverallRatings=[]\n",
    "listUserRatings=[]\n",
    "listGenre=[]\n",
    "listId=[]\n",
    "listIsVideo=[]\n",
    "listReleaseDate=[]\n",
    "listProductionCompany=[]\n",
    "text_query = ['a','e','i','o','r']\n",
    "max_page=200\n"
   ]
  },
  {
   "cell_type": "markdown",
   "metadata": {},
   "source": [
    "#\n",
    "**Testing tmdb search endpoint but found a few limitations:**\n",
    "1. Unknown how many of the movies returned has reviews\n",
    "2. Possibility of overlaps in the different search results"
   ]
  },
  {
   "cell_type": "code",
   "execution_count": 132,
   "metadata": {},
   "outputs": [
    {
     "name": "stdout",
     "output_type": "stream",
     "text": [
      "20000\n"
     ]
    }
   ],
   "source": [
    "all_search_results=[]\n",
    "#42.7sec\n",
    "#Explore Search using boolean text query\n",
    "search = tmdb.Search()\n",
    "for i in range(1,max_page+1):\n",
    "    for letter in text_query:\n",
    "        try:\n",
    "            response = search.movie(query=letter,page=i)\n",
    "            for result in search.results:\n",
    "                all_search_results.append(result)\n",
    "        except IndexError:\n",
    "            pass\n",
    "print(len(all_search_results))\n",
    "#print(len(search.results))"
   ]
  },
  {
   "cell_type": "code",
   "execution_count": 19,
   "metadata": {},
   "outputs": [
    {
     "name": "stdout",
     "output_type": "stream",
     "text": [
      "Uncommon Women and Others\n"
     ]
    }
   ],
   "source": [
    "#Get Title\n",
    "print(tmdb.Movies(id=\"209500\").info()[\"title\"])\n",
    "#Get Genre and put into list\n",
    "#print(tmdb.Movies(id=\"2\").info()[\"genres\"])\n",
    "# genre_string = \"\"\n",
    "# current_movie_genre = tmdb.Movies(id=\"2\").info()[\"genres\"]\n",
    "# #Logic for retrieving genres\n",
    "# for i in range(len(current_movie_genre)):\n",
    "#     if i!=len(current_movie_genre)-1:\n",
    "#         genre_string+=f\"{current_movie_genre[i]['name']},\"\n",
    "#     else:\n",
    "#         genre_string+=f\"{current_movie_genre[i]['name']}\"\n",
    "# print(current_movie_genre)\n",
    "# print(genre_string)\n",
    "\n",
    "#Get tmdbRating\n",
    "#print(tmdb.Movies(id=\"2\").info()['production_companies'][0]['name'])\n",
    "\n",
    "#print(tmdb.Movies(id='640146').reviews()[\"results\"][0])\n",
    "\n",
    "# for review in tmdb.Movies(id=\"209478\").reviews()[\"results\"]:\n",
    "#     print(review['author_details']['rating'])\n",
    "#Get First Review\n",
    "#print(len())\n",
    "\n",
    "#Getting the content of the review\n",
    "#Inside reviews -> results(lists) -> content ->\n",
    "#print(tmdb.Movies(id=\"198663\").reviews()[\"results\"][0]['content'].replace('\\r\\n\\r',' ').replace('\\n',' '))\n",
    "\n",
    "#Getting the rating of the review\n",
    "#print(tmdb.Movies(id=\"198663\").reviews()[\"results\"][0]['author_details']['rating'])"
   ]
  },
  {
   "cell_type": "markdown",
   "metadata": {},
   "source": [
    "**Below is the logic for getting the desired movie data from tmdb movie_review endpoint:**\n",
    "1. We continuously iterate through the movie_ids starting from 0,\n",
    "2. Checking whether the movie has reviews and whether the reviews have user_ratings assigned to them\n",
    "3. If it has, we have 3 scenarios\n",
    "4. We check whether we have reached the desired number of good/bad reviews else, we will retrieve the respective data from the response and store into their individual list"
   ]
  },
  {
   "cell_type": "code",
   "execution_count": 83,
   "metadata": {},
   "outputs": [],
   "source": [
    "#8.2sec for 100\n",
    "good_reviews=543\n",
    "bad_reviews=3496\n",
    "count=9998\n",
    "max_count=10000\n",
    "idx=353442\n",
    "while count!=max_count:\n",
    "    if count%10==0:\n",
    "        print(f\"Count: {count}\")\n",
    "    try:\n",
    "        result_id = idx\n",
    "        #If got reviews, extract details\n",
    "        if(good_reviews!=0 and bad_reviews!=0):\n",
    "            #Check if movie has reviews\n",
    "            if(len(tmdb.Movies(id=result_id).reviews()[\"results\"])!=0):\n",
    "                #Check each reviews if they have ratings\n",
    "                for review in tmdb.Movies(id=result_id).reviews()[\"results\"]:\n",
    "                    if (review['author_details']['rating']!= None):\n",
    "                        #Retrieve id, name, review, userRating(user given), tmdbRating(avg of all user ratings), genre, isVideoTag, releaseDate, ProductionCompany\n",
    "                        listNames.append(tmdb.Movies(id=result_id).info()['title'])\n",
    "                        listIsVideo.append(tmdb.Movies(id=result_id).info()['video'])\n",
    "                        listReleaseDate.append(tmdb.Movies(id=result_id).info()['release_date'])\n",
    "                        if(len(tmdb.Movies(id=result_id).info()['production_companies'])!=0):\n",
    "                            listProductionCompany.append(tmdb.Movies(id=result_id).info()['production_companies'][0]['name'])\n",
    "                        else:\n",
    "                            listProductionCompany.append(\"Unknown\")\n",
    "                        listId.append(result_id)\n",
    "                        listOverallRatings.append(tmdb.Movies(id=result_id).info()['vote_average'])\n",
    "                        listReviews.append(review['content'].replace('\\r\\n\\r',' ').replace('\\n',' '))\n",
    "                        listUserRatings.append(review['author_details']['rating'])\n",
    "                        #Logic to retrieve genres of the movie and clean and convert to a string\n",
    "                        genre_string = \"\"\n",
    "                        current_movie_genre = tmdb.Movies(id=result_id).info()[\"genres\"]\n",
    "                        #Logic for retrieving genres\n",
    "                        for i in range(len(current_movie_genre)):\n",
    "                            if i!=len(current_movie_genre)-1:\n",
    "                                genre_string+=f\"{current_movie_genre[i]['name']},\"\n",
    "                            else:\n",
    "                                genre_string+=f\"{current_movie_genre[i]['name']}\"\n",
    "                        listGenre.append(genre_string)\n",
    "                        genre_string=\"\"\n",
    "                        #Logic to check if the review rating is good or bad (given that we take >=5 as good)\n",
    "                        if (review['author_details']['rating']>=5):\n",
    "                            good_reviews-=1\n",
    "                        else:\n",
    "                            bad_reviews-=1\n",
    "                        count+=1\n",
    "                        if count==max_count:\n",
    "                            break\n",
    "        elif(good_reviews==0):\n",
    "            #Check if movie has reviews\n",
    "            if(len(tmdb.Movies(id=result_id).reviews()[\"results\"])!=0):\n",
    "                #Check each reviews if they have ratings\n",
    "                for review in tmdb.Movies(id=result_id).reviews()[\"results\"]:\n",
    "                    if (review['author_details']['rating']!= None and review['author_details']['rating']<5):\n",
    "                        #Retrieve id, name, review, userRating(user given), tmdbRating(avg of all user ratings), genre, isVideoTag, releaseDate, ProductionCompany\n",
    "                        listNames.append(tmdb.Movies(id=result_id).info()['title'])\n",
    "                        listIsVideo.append(tmdb.Movies(id=result_id).info()['video'])\n",
    "                        listReleaseDate.append(tmdb.Movies(id=result_id).info()['release_date'])\n",
    "                        if(len(tmdb.Movies(id=result_id).info()['production_companies'])!=0):\n",
    "                            listProductionCompany.append(tmdb.Movies(id=result_id).info()['production_companies'][0]['name'])\n",
    "                        else:\n",
    "                            listProductionCompany.append(\"Unknown\")\n",
    "                        listId.append(result_id)\n",
    "                        listOverallRatings.append(tmdb.Movies(id=result_id).info()['vote_average'])\n",
    "                        listReviews.append(review['content'].replace('\\r\\n\\r',' ').replace('\\n',' '))\n",
    "                        listUserRatings.append(review['author_details']['rating'])\n",
    "                        #Logic to retrieve genres of the movie and clean and convert to a string\n",
    "                        genre_string = \"\"\n",
    "                        current_movie_genre = tmdb.Movies(id=result_id).info()[\"genres\"]\n",
    "                        #Logic for retrieving genres\n",
    "                        for i in range(len(current_movie_genre)):\n",
    "                            if i!=len(current_movie_genre)-1:\n",
    "                                genre_string+=f\"{current_movie_genre[i]['name']},\"\n",
    "                            else:\n",
    "                                genre_string+=f\"{current_movie_genre[i]['name']}\"\n",
    "                        listGenre.append(genre_string)\n",
    "                        genre_string=\"\"\n",
    "                        \n",
    "                        \n",
    "                        bad_reviews-=1\n",
    "                        \n",
    "                        count+=1\n",
    "                        if count==max_count:\n",
    "                            break\n",
    "        elif(bad_reviews==0):\n",
    "            if(len(tmdb.Movies(id=result_id).reviews()[\"results\"])!=0):\n",
    "                #Check each reviews if they have ratings\n",
    "                for review in tmdb.Movies(id=result_id).reviews()[\"results\"]:\n",
    "                    if (review['author_details']['rating']!= None and review['author_details']['rating']>=5):\n",
    "                        #Retrieve id, name, review, userRating(user given), tmdbRating(avg of all user ratings), genre, isVideoTag, releaseDate, ProductionCompany\n",
    "                        listNames.append(tmdb.Movies(id=result_id).info()['title'])\n",
    "                        listIsVideo.append(tmdb.Movies(id=result_id).info()['video'])\n",
    "                        listReleaseDate.append(tmdb.Movies(id=result_id).info()['release_date'])\n",
    "                        if(len(tmdb.Movies(id=result_id).info()['production_companies'])!=0):\n",
    "                            listProductionCompany.append(tmdb.Movies(id=result_id).info()['production_companies'][0]['name'])\n",
    "                        else:\n",
    "                            listProductionCompany.append(\"Unknown\")\n",
    "                        listId.append(result_id)\n",
    "                        listOverallRatings.append(tmdb.Movies(id=result_id).info()['vote_average'])\n",
    "                        listReviews.append(tmdb.Movies(id=result_id).reviews()[\"results\"][0]['content'].replace('\\r\\n\\r',' ').replace('\\n',' '))\n",
    "                        listUserRatings.append(tmdb.Movies(id=result_id).reviews()[\"results\"][0]['author_details']['rating'])\n",
    "                        #Logic to retrieve genres of the movie and clean and convert to a string\n",
    "                        genre_string = \"\"\n",
    "                        current_movie_genre = tmdb.Movies(id=result_id).info()[\"genres\"]\n",
    "                        #Logic for retrieving genres\n",
    "                        for i in range(len(current_movie_genre)):\n",
    "                            if i!=len(current_movie_genre)-1:\n",
    "                                genre_string+=f\"{current_movie_genre[i]['name']},\"\n",
    "                            else:\n",
    "                                genre_string+=f\"{current_movie_genre[i]['name']}\"\n",
    "                        listGenre.append(genre_string)\n",
    "                        genre_string=\"\"\n",
    "                        \n",
    "                        good_reviews-=1\n",
    "                        \n",
    "                        count+=1\n",
    "                        if count==max_count:\n",
    "                            break\n",
    "    except requests.exceptions.HTTPError as err:\n",
    "        pass\n",
    "    idx+=1"
   ]
  },
  {
   "cell_type": "markdown",
   "metadata": {},
   "source": [
    "**For tracking/debug:**"
   ]
  },
  {
   "cell_type": "code",
   "execution_count": 84,
   "metadata": {},
   "outputs": [
    {
     "name": "stdout",
     "output_type": "stream",
     "text": [
      "10000\n",
      "541\n",
      "3496\n",
      "353487\n",
      "Thriller,Horror\n",
      "[]\n"
     ]
    }
   ],
   "source": [
    "# print(count) #10000 Entries now\n",
    "# print(good_reviews) # 541\n",
    "# print(bad_reviews) #3496\n",
    "# print(idx) #Stopped at 353487\n",
    "# print(listGenre[0])\n",
    "# print(tmdb.Movies(id=82880).info()[\"genres\"])\n"
   ]
  },
  {
   "cell_type": "code",
   "execution_count": 85,
   "metadata": {},
   "outputs": [
    {
     "name": "stdout",
     "output_type": "stream",
     "text": [
      "4238\n",
      "4238\n",
      "4238\n",
      "4238\n",
      "4238\n",
      "4238\n",
      "4238\n",
      "4238\n",
      "4238\n",
      "541\n",
      "10000\n"
     ]
    }
   ],
   "source": [
    "#print(listNames)\n",
    "print(len(listReviews))\n",
    "print(len(listOverallRatings))\n",
    "print(len(listUserRatings))\n",
    "print(len(listNames))#\n",
    "print(len(listId))\n",
    "print(len(listGenre))\n",
    "print(len(listIsVideo))#\n",
    "print(len(listReleaseDate))#\n",
    "print(len(listProductionCompany))\n",
    "print(good_reviews)\n",
    "print(count)"
   ]
  },
  {
   "cell_type": "markdown",
   "metadata": {},
   "source": [
    "**Creating a pd.df with scraped data and save as CSV**"
   ]
  },
  {
   "cell_type": "code",
   "execution_count": 102,
   "metadata": {},
   "outputs": [
    {
     "name": "stdout",
     "output_type": "stream",
     "text": [
      "None\n",
      "                          Movie Name  Movie Id  \\\n",
      "4233                           Wagah    353415   \n",
      "4234              Killing Hasselhoff    353440   \n",
      "4235              Killing Hasselhoff    353440   \n",
      "4236                The Magic Canvas    353478   \n",
      "4237  Jumanji: Welcome to the Jungle    353486   \n",
      "\n",
      "                                         Review Content  tmdb Rating  \\\n",
      "4233  In his previous film, Haridas, GNR Kumaravelan...        4.400   \n",
      "4234  Not good, but better than I had prepared mysel...        4.700   \n",
      "4235  Good watch, would watch again, and can recomme...        4.700   \n",
      "4236  The opening slide gives us an idea as to what ...        7.000   \n",
      "4237  **The 90's Game is back and got even more adve...        6.824   \n",
      "\n",
      "      User Rating                         Genre(s)  Not A Movie? Release Date  \\\n",
      "4233          3.0             Action,Drama,Romance         False   2016-08-12   \n",
      "4234          4.0                           Comedy         False   2017-08-29   \n",
      "4235          6.0                           Comedy         False   2017-08-29   \n",
      "4236          7.0                        Animation         False   1948-12-30   \n",
      "4237          7.0  Adventure,Action,Comedy,Fantasy         False   2017-12-09   \n",
      "\n",
      "                     Production Company  \n",
      "4233               Vijay Bhargavi Films  \n",
      "4234                     Lotus Pictures  \n",
      "4235                     Lotus Pictures  \n",
      "4236  Halas and Batchelor Cartoon Films  \n",
      "4237                     Radar Pictures  \n"
     ]
    }
   ],
   "source": [
    "data = {\n",
    "    'Movie Name': listNames,\n",
    "    'Movie Id' : listId,\n",
    "    'Review Content': listReviews,\n",
    "    'tmdb Rating' : listOverallRatings,\n",
    "    'User Rating': listUserRatings,\n",
    "    'Genre(s)' : listGenre,\n",
    "    'Not A Movie?' : listIsVideo,\n",
    "    'Release Date' : listReleaseDate,\n",
    "    'Production Company' : listProductionCompany\n",
    "}\n",
    "\n",
    "# Create a Pandas dataframe from the data\n",
    "df = pd.DataFrame(data)\n",
    "\n",
    "# Save the dataframe to a CSV file\n",
    "#df.to_csv('test_clean_data_extended_newest_data.csv', index=True)"
   ]
  },
  {
   "cell_type": "code",
   "execution_count": 192,
   "metadata": {},
   "outputs": [
    {
     "data": {
      "text/plain": [
       "2331"
      ]
     },
     "execution_count": 192,
     "metadata": {},
     "output_type": "execute_result"
    }
   ],
   "source": [
    "#drop duplicates\n",
    "pd.unique(df['Movie Name']).size\n"
   ]
  },
  {
   "cell_type": "code",
   "execution_count": 203,
   "metadata": {},
   "outputs": [],
   "source": [
    "df_unique = df.drop_duplicates(subset=['Movie Name'])"
   ]
  },
  {
   "cell_type": "code",
   "execution_count": 225,
   "metadata": {},
   "outputs": [],
   "source": [
    "len(df_unique.index)\n",
    "df_unique = df_unique.reset_index(drop=True)\n"
   ]
  },
  {
   "cell_type": "code",
   "execution_count": 226,
   "metadata": {},
   "outputs": [
    {
     "data": {
      "text/plain": [
       "2331"
      ]
     },
     "execution_count": 226,
     "metadata": {},
     "output_type": "execute_result"
    }
   ],
   "source": [
    "df_unique['Movie Name'].nunique()"
   ]
  },
  {
   "cell_type": "code",
   "execution_count": 206,
   "metadata": {},
   "outputs": [
    {
     "data": {
      "text/plain": [
       "2945"
      ]
     },
     "execution_count": 206,
     "metadata": {},
     "output_type": "execute_result"
    }
   ],
   "source": [
    "len(df.index)"
   ]
  },
  {
   "cell_type": "code",
   "execution_count": 214,
   "metadata": {},
   "outputs": [
    {
     "data": {
      "text/plain": [
       "(2331, 9)"
      ]
     },
     "execution_count": 214,
     "metadata": {},
     "output_type": "execute_result"
    }
   ],
   "source": [
    "df_unique.shape"
   ]
  },
  {
   "cell_type": "code",
   "execution_count": 228,
   "metadata": {},
   "outputs": [],
   "source": [
    "df_unique.to_csv('unique_data.csv',index=True)"
   ]
  },
  {
   "cell_type": "code",
   "execution_count": 227,
   "metadata": {},
   "outputs": [
    {
     "data": {
      "text/html": [
       "<div>\n",
       "<style scoped>\n",
       "    .dataframe tbody tr th:only-of-type {\n",
       "        vertical-align: middle;\n",
       "    }\n",
       "\n",
       "    .dataframe tbody tr th {\n",
       "        vertical-align: top;\n",
       "    }\n",
       "\n",
       "    .dataframe thead th {\n",
       "        text-align: right;\n",
       "    }\n",
       "</style>\n",
       "<table border=\"1\" class=\"dataframe\">\n",
       "  <thead>\n",
       "    <tr style=\"text-align: right;\">\n",
       "      <th></th>\n",
       "      <th>Movie Name</th>\n",
       "      <th>Movie Id</th>\n",
       "      <th>Review Content</th>\n",
       "      <th>tmdb Rating</th>\n",
       "      <th>User Rating</th>\n",
       "      <th>Genre(s)</th>\n",
       "      <th>Not A Movie?</th>\n",
       "      <th>Release Date</th>\n",
       "      <th>Production Company</th>\n",
       "    </tr>\n",
       "  </thead>\n",
       "  <tbody>\n",
       "    <tr>\n",
       "      <th>2326</th>\n",
       "      <td>After the Dark</td>\n",
       "      <td>198287</td>\n",
       "      <td>I've watched a lot of dumb movies, but never h...</td>\n",
       "      <td>6.099</td>\n",
       "      <td>1.0</td>\n",
       "      <td>Drama,Fantasy,Science Fiction,Thriller</td>\n",
       "      <td>False</td>\n",
       "      <td>2013-07-06</td>\n",
       "      <td>An Olive Branch Productions</td>\n",
       "    </tr>\n",
       "    <tr>\n",
       "      <th>2327</th>\n",
       "      <td>American Honey</td>\n",
       "      <td>340485</td>\n",
       "      <td>**To redefine the life and to discover the lov...</td>\n",
       "      <td>6.798</td>\n",
       "      <td>7.0</td>\n",
       "      <td>Drama</td>\n",
       "      <td>False</td>\n",
       "      <td>2016-09-30</td>\n",
       "      <td>BFI</td>\n",
       "    </tr>\n",
       "    <tr>\n",
       "      <th>2328</th>\n",
       "      <td>Dead Again</td>\n",
       "      <td>11498</td>\n",
       "      <td>By far, my favourite film of Branagh's that he...</td>\n",
       "      <td>6.453</td>\n",
       "      <td>9.0</td>\n",
       "      <td>Thriller,Romance,Mystery</td>\n",
       "      <td>False</td>\n",
       "      <td>1991-08-23</td>\n",
       "      <td>Paramount</td>\n",
       "    </tr>\n",
       "    <tr>\n",
       "      <th>2329</th>\n",
       "      <td>April Fool's Day</td>\n",
       "      <td>24913</td>\n",
       "      <td>Muffy the ham-pie slayer!  A group of college ...</td>\n",
       "      <td>6.045</td>\n",
       "      <td>7.0</td>\n",
       "      <td>Horror,Mystery</td>\n",
       "      <td>False</td>\n",
       "      <td>1986-03-27</td>\n",
       "      <td>YCTM</td>\n",
       "    </tr>\n",
       "    <tr>\n",
       "      <th>2330</th>\n",
       "      <td>Obsessed</td>\n",
       "      <td>17335</td>\n",
       "      <td>**Obsessed has a weak, overused concept but a ...</td>\n",
       "      <td>5.747</td>\n",
       "      <td>6.0</td>\n",
       "      <td>Drama,Thriller</td>\n",
       "      <td>False</td>\n",
       "      <td>2009-04-24</td>\n",
       "      <td>Screen Gems</td>\n",
       "    </tr>\n",
       "  </tbody>\n",
       "</table>\n",
       "</div>"
      ],
      "text/plain": [
       "            Movie Name  Movie Id  \\\n",
       "2326    After the Dark    198287   \n",
       "2327    American Honey    340485   \n",
       "2328        Dead Again     11498   \n",
       "2329  April Fool's Day     24913   \n",
       "2330          Obsessed     17335   \n",
       "\n",
       "                                         Review Content  tmdb Rating  \\\n",
       "2326  I've watched a lot of dumb movies, but never h...        6.099   \n",
       "2327  **To redefine the life and to discover the lov...        6.798   \n",
       "2328  By far, my favourite film of Branagh's that he...        6.453   \n",
       "2329  Muffy the ham-pie slayer!  A group of college ...        6.045   \n",
       "2330  **Obsessed has a weak, overused concept but a ...        5.747   \n",
       "\n",
       "      User Rating                                Genre(s)  Not A Movie?  \\\n",
       "2326          1.0  Drama,Fantasy,Science Fiction,Thriller         False   \n",
       "2327          7.0                                   Drama         False   \n",
       "2328          9.0                Thriller,Romance,Mystery         False   \n",
       "2329          7.0                          Horror,Mystery         False   \n",
       "2330          6.0                          Drama,Thriller         False   \n",
       "\n",
       "     Release Date           Production Company  \n",
       "2326   2013-07-06  An Olive Branch Productions  \n",
       "2327   2016-09-30                          BFI  \n",
       "2328   1991-08-23                    Paramount  \n",
       "2329   1986-03-27                         YCTM  \n",
       "2330   2009-04-24                  Screen Gems  "
      ]
     },
     "execution_count": 227,
     "metadata": {},
     "output_type": "execute_result"
    }
   ],
   "source": [
    "df_unique.tail()"
   ]
  },
  {
   "cell_type": "code",
   "execution_count": 220,
   "metadata": {},
   "outputs": [
    {
     "data": {
      "text/html": [
       "<div>\n",
       "<style scoped>\n",
       "    .dataframe tbody tr th:only-of-type {\n",
       "        vertical-align: middle;\n",
       "    }\n",
       "\n",
       "    .dataframe tbody tr th {\n",
       "        vertical-align: top;\n",
       "    }\n",
       "\n",
       "    .dataframe thead th {\n",
       "        text-align: right;\n",
       "    }\n",
       "</style>\n",
       "<table border=\"1\" class=\"dataframe\">\n",
       "  <thead>\n",
       "    <tr style=\"text-align: right;\">\n",
       "      <th></th>\n",
       "      <th>index</th>\n",
       "      <th>Movie Name</th>\n",
       "      <th>Movie Id</th>\n",
       "      <th>Review Content</th>\n",
       "      <th>tmdb Rating</th>\n",
       "      <th>User Rating</th>\n",
       "      <th>Genre(s)</th>\n",
       "      <th>Not A Movie?</th>\n",
       "      <th>Release Date</th>\n",
       "      <th>Production Company</th>\n",
       "    </tr>\n",
       "  </thead>\n",
       "  <tbody>\n",
       "    <tr>\n",
       "      <th>0</th>\n",
       "      <td>0</td>\n",
       "      <td>Winnie the Pooh: Blood and Honey</td>\n",
       "      <td>980078</td>\n",
       "      <td>Now don't judge. You mustn't judge. If you do ...</td>\n",
       "      <td>5.789</td>\n",
       "      <td>5.0</td>\n",
       "      <td>Horror,Thriller</td>\n",
       "      <td>False</td>\n",
       "      <td>2023-01-27</td>\n",
       "      <td>Jagged Edge Productions</td>\n",
       "    </tr>\n",
       "    <tr>\n",
       "      <th>1</th>\n",
       "      <td>1</td>\n",
       "      <td>Avatar: The Way of Water</td>\n",
       "      <td>76600</td>\n",
       "      <td>**Avatar: The Way of Water follows in its pred...</td>\n",
       "      <td>7.728</td>\n",
       "      <td>6.0</td>\n",
       "      <td>Science Fiction,Adventure,Action</td>\n",
       "      <td>False</td>\n",
       "      <td>2022-12-14</td>\n",
       "      <td>20th Century Studios</td>\n",
       "    </tr>\n",
       "    <tr>\n",
       "      <th>2</th>\n",
       "      <td>2</td>\n",
       "      <td>Knock at the Cabin</td>\n",
       "      <td>631842</td>\n",
       "      <td>FULL SPOILER-FREE REVIEW @ https://www.msbrevi...</td>\n",
       "      <td>6.400</td>\n",
       "      <td>8.0</td>\n",
       "      <td>Horror,Mystery,Thriller</td>\n",
       "      <td>False</td>\n",
       "      <td>2023-02-01</td>\n",
       "      <td>Blinding Edge Pictures</td>\n",
       "    </tr>\n",
       "    <tr>\n",
       "      <th>3</th>\n",
       "      <td>3</td>\n",
       "      <td>Black Adam</td>\n",
       "      <td>436270</td>\n",
       "      <td>FULL SPOILER-FREE REVIEW @ https://www.msbrevi...</td>\n",
       "      <td>7.100</td>\n",
       "      <td>5.0</td>\n",
       "      <td>Action,Fantasy,Science Fiction</td>\n",
       "      <td>False</td>\n",
       "      <td>2022-10-19</td>\n",
       "      <td>New Line Cinema</td>\n",
       "    </tr>\n",
       "    <tr>\n",
       "      <th>4</th>\n",
       "      <td>4</td>\n",
       "      <td>A Man Called Otto</td>\n",
       "      <td>937278</td>\n",
       "      <td>Fans of the BBC sitcom \"One Foot in the Grave\"...</td>\n",
       "      <td>7.884</td>\n",
       "      <td>7.0</td>\n",
       "      <td>Comedy,Drama</td>\n",
       "      <td>False</td>\n",
       "      <td>2022-12-28</td>\n",
       "      <td>Playtone</td>\n",
       "    </tr>\n",
       "    <tr>\n",
       "      <th>...</th>\n",
       "      <td>...</td>\n",
       "      <td>...</td>\n",
       "      <td>...</td>\n",
       "      <td>...</td>\n",
       "      <td>...</td>\n",
       "      <td>...</td>\n",
       "      <td>...</td>\n",
       "      <td>...</td>\n",
       "      <td>...</td>\n",
       "      <td>...</td>\n",
       "    </tr>\n",
       "    <tr>\n",
       "      <th>2326</th>\n",
       "      <td>2939</td>\n",
       "      <td>After the Dark</td>\n",
       "      <td>198287</td>\n",
       "      <td>I've watched a lot of dumb movies, but never h...</td>\n",
       "      <td>6.099</td>\n",
       "      <td>1.0</td>\n",
       "      <td>Drama,Fantasy,Science Fiction,Thriller</td>\n",
       "      <td>False</td>\n",
       "      <td>2013-07-06</td>\n",
       "      <td>An Olive Branch Productions</td>\n",
       "    </tr>\n",
       "    <tr>\n",
       "      <th>2327</th>\n",
       "      <td>2940</td>\n",
       "      <td>American Honey</td>\n",
       "      <td>340485</td>\n",
       "      <td>**To redefine the life and to discover the lov...</td>\n",
       "      <td>6.798</td>\n",
       "      <td>7.0</td>\n",
       "      <td>Drama</td>\n",
       "      <td>False</td>\n",
       "      <td>2016-09-30</td>\n",
       "      <td>BFI</td>\n",
       "    </tr>\n",
       "    <tr>\n",
       "      <th>2328</th>\n",
       "      <td>2941</td>\n",
       "      <td>Dead Again</td>\n",
       "      <td>11498</td>\n",
       "      <td>By far, my favourite film of Branagh's that he...</td>\n",
       "      <td>6.453</td>\n",
       "      <td>9.0</td>\n",
       "      <td>Thriller,Romance,Mystery</td>\n",
       "      <td>False</td>\n",
       "      <td>1991-08-23</td>\n",
       "      <td>Paramount</td>\n",
       "    </tr>\n",
       "    <tr>\n",
       "      <th>2329</th>\n",
       "      <td>2942</td>\n",
       "      <td>April Fool's Day</td>\n",
       "      <td>24913</td>\n",
       "      <td>Muffy the ham-pie slayer!  A group of college ...</td>\n",
       "      <td>6.045</td>\n",
       "      <td>7.0</td>\n",
       "      <td>Horror,Mystery</td>\n",
       "      <td>False</td>\n",
       "      <td>1986-03-27</td>\n",
       "      <td>YCTM</td>\n",
       "    </tr>\n",
       "    <tr>\n",
       "      <th>2330</th>\n",
       "      <td>2943</td>\n",
       "      <td>Obsessed</td>\n",
       "      <td>17335</td>\n",
       "      <td>**Obsessed has a weak, overused concept but a ...</td>\n",
       "      <td>5.747</td>\n",
       "      <td>6.0</td>\n",
       "      <td>Drama,Thriller</td>\n",
       "      <td>False</td>\n",
       "      <td>2009-04-24</td>\n",
       "      <td>Screen Gems</td>\n",
       "    </tr>\n",
       "  </tbody>\n",
       "</table>\n",
       "<p>2331 rows × 10 columns</p>\n",
       "</div>"
      ],
      "text/plain": [
       "      index                        Movie Name  Movie Id  \\\n",
       "0         0  Winnie the Pooh: Blood and Honey    980078   \n",
       "1         1          Avatar: The Way of Water     76600   \n",
       "2         2                Knock at the Cabin    631842   \n",
       "3         3                        Black Adam    436270   \n",
       "4         4                 A Man Called Otto    937278   \n",
       "...     ...                               ...       ...   \n",
       "2326   2939                    After the Dark    198287   \n",
       "2327   2940                    American Honey    340485   \n",
       "2328   2941                        Dead Again     11498   \n",
       "2329   2942                  April Fool's Day     24913   \n",
       "2330   2943                          Obsessed     17335   \n",
       "\n",
       "                                         Review Content  tmdb Rating  \\\n",
       "0     Now don't judge. You mustn't judge. If you do ...        5.789   \n",
       "1     **Avatar: The Way of Water follows in its pred...        7.728   \n",
       "2     FULL SPOILER-FREE REVIEW @ https://www.msbrevi...        6.400   \n",
       "3     FULL SPOILER-FREE REVIEW @ https://www.msbrevi...        7.100   \n",
       "4     Fans of the BBC sitcom \"One Foot in the Grave\"...        7.884   \n",
       "...                                                 ...          ...   \n",
       "2326  I've watched a lot of dumb movies, but never h...        6.099   \n",
       "2327  **To redefine the life and to discover the lov...        6.798   \n",
       "2328  By far, my favourite film of Branagh's that he...        6.453   \n",
       "2329  Muffy the ham-pie slayer!  A group of college ...        6.045   \n",
       "2330  **Obsessed has a weak, overused concept but a ...        5.747   \n",
       "\n",
       "      User Rating                                Genre(s)  Not A Movie?  \\\n",
       "0             5.0                         Horror,Thriller         False   \n",
       "1             6.0        Science Fiction,Adventure,Action         False   \n",
       "2             8.0                 Horror,Mystery,Thriller         False   \n",
       "3             5.0          Action,Fantasy,Science Fiction         False   \n",
       "4             7.0                            Comedy,Drama         False   \n",
       "...           ...                                     ...           ...   \n",
       "2326          1.0  Drama,Fantasy,Science Fiction,Thriller         False   \n",
       "2327          7.0                                   Drama         False   \n",
       "2328          9.0                Thriller,Romance,Mystery         False   \n",
       "2329          7.0                          Horror,Mystery         False   \n",
       "2330          6.0                          Drama,Thriller         False   \n",
       "\n",
       "     Release Date           Production Company  \n",
       "0      2023-01-27      Jagged Edge Productions  \n",
       "1      2022-12-14         20th Century Studios  \n",
       "2      2023-02-01       Blinding Edge Pictures  \n",
       "3      2022-10-19              New Line Cinema  \n",
       "4      2022-12-28                     Playtone  \n",
       "...           ...                          ...  \n",
       "2326   2013-07-06  An Olive Branch Productions  \n",
       "2327   2016-09-30                          BFI  \n",
       "2328   1991-08-23                    Paramount  \n",
       "2329   1986-03-27                         YCTM  \n",
       "2330   2009-04-24                  Screen Gems  \n",
       "\n",
       "[2331 rows x 10 columns]"
      ]
     },
     "execution_count": 220,
     "metadata": {},
     "output_type": "execute_result"
    }
   ],
   "source": [
    "df_unique.reset_index()"
   ]
  },
  {
   "cell_type": "code",
   "execution_count": null,
   "metadata": {},
   "outputs": [],
   "source": []
  }
 ],
 "metadata": {
  "kernelspec": {
   "display_name": "Python 3.9.12 ('base')",
   "language": "python",
   "name": "python3"
  },
  "language_info": {
   "codemirror_mode": {
    "name": "ipython",
    "version": 3
   },
   "file_extension": ".py",
   "mimetype": "text/x-python",
   "name": "python",
   "nbconvert_exporter": "python",
   "pygments_lexer": "ipython3",
   "version": "3.9.12"
  },
  "orig_nbformat": 4,
  "vscode": {
   "interpreter": {
    "hash": "0086ea075230272764581c0f79f0ead2bcfb00df1336ff99837d07d857559480"
   }
  }
 },
 "nbformat": 4,
 "nbformat_minor": 2
}
