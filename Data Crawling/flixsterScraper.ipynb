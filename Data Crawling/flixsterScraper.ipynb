{
 "cells": [
  {
   "cell_type": "code",
   "execution_count": 2,
   "metadata": {},
   "outputs": [],
   "source": [
    "import requests\n",
    "import json\n",
    "import os\n"
   ]
  },
  {
   "cell_type": "code",
   "execution_count": null,
   "metadata": {},
   "outputs": [],
   "source": [
    "#Input API Key here , is a String\n",
    "api_key = None #Register a account at RapidAPI for one"
   ]
  },
  {
   "cell_type": "code",
   "execution_count": null,
   "metadata": {},
   "outputs": [],
   "source": [
    "listNames=[]\n",
    "listReviews=[]\n",
    "listOverallRatings=[]\n",
    "listUserRatings=[]\n",
    "listGenre=[]\n",
    "listId=[]\n",
    "listIsVideo=[]\n",
    "listReleaseDate=[]\n",
    "listProductionCompany=[]"
   ]
  },
  {
   "cell_type": "code",
   "execution_count": 3,
   "metadata": {},
   "outputs": [],
   "source": [
    "def saveToJson(content,name,type): \n",
    "    # Convert the JSON data into a Python object\n",
    "    data = json.loads(content)\n",
    "\n",
    "    # Specify the file path where you want to save the JSON file\n",
    "    file_path = os.getcwd() +\"/queriedMovieDetails/\" + f\"{name}\" + f\"{type}\" + \".json\"\n",
    "\n",
    "    # Create the directory if it doesn't exist\n",
    "    os.makedirs(os.path.dirname(file_path), exist_ok=True)\n",
    "\n",
    "    # Open the file in write mode and save the JSON data\n",
    "    with open(file_path, \"w\") as outfile:\n",
    "        json.dump(data, outfile)"
   ]
  },
  {
   "attachments": {},
   "cell_type": "markdown",
   "metadata": {},
   "source": [
    "**This saves all movie results from the single letter query as a json file each file representing the data for 1 movie result**"
   ]
  },
  {
   "cell_type": "code",
   "execution_count": 26,
   "metadata": {},
   "outputs": [],
   "source": [
    "#Get Movie names from binary search query a,e,i,r,o\n",
    "url = \"https://flixster.p.rapidapi.com/search\"\n",
    "queryStrings = [\"e\",\"i\",\"r\",\"o\",\"a\",\"t\",\"n\",\"s\",\"l\",\"c\"]\n",
    "queryStrings = [\"e\"]\n",
    "\n",
    "for query in queryStrings:\n",
    "\tquerystring = {\"query\":query,\"zipCode\":\"90002\",\"radius\":\"50\"}\n",
    "\n",
    "\theaders = {\n",
    "\t\t\"X-RapidAPI-Key\": api_key,\n",
    "\t\t\"X-RapidAPI-Host\": \"flixster.p.rapidapi.com\"\n",
    "\t}\n",
    "\n",
    "\tresponse = requests.request(\"GET\", url, headers=headers, params=querystring)\n",
    "\tcontent = response.text\n",
    "\tsaveToJson(content,query,\"Details\")\n"
   ]
  },
  {
   "attachments": {},
   "cell_type": "markdown",
   "metadata": {},
   "source": [
    "**This method queries Flixster for the review data for a particular movie using it's emsId**"
   ]
  },
  {
   "cell_type": "code",
   "execution_count": null,
   "metadata": {},
   "outputs": [],
   "source": [
    "def getMovieReviewsByEmsId(emsId):\n",
    "\t#Using movie results from the binary search, GET the reviews with the respective emsId\n",
    "\turl = \"https://flixster.p.rapidapi.com/reviews/list\"\n",
    "\n",
    "\tquerystring = {\"emsId\":{emsId},\"limit\":\"20\",\"offset\":\"0\",\"withComments\":\"true\"}\n",
    "\n",
    "\theaders = {\n",
    "\t\t\"X-RapidAPI-Key\": api_key,\n",
    "\t\t\"X-RapidAPI-Host\": \"flixster.p.rapidapi.com\"\n",
    "\t}\n",
    "\n",
    "\tresponse = requests.request(\"GET\", url, headers=headers, params=querystring)\n",
    "\treturn response\n"
   ]
  },
  {
   "cell_type": "code",
   "execution_count": null,
   "metadata": {},
   "outputs": [],
   "source": [
    "def getMoreMovieDetailsByEmsVersionId(emsVersionId):\n",
    "    url = \"https://flixster.p.rapidapi.com/movies/detail\"\n",
    "\n",
    "    querystring = {\"emsVersionId\":emsVersionId}\n",
    "\n",
    "    headers = {\n",
    "        \"X-RapidAPI-Key\": api_key,\n",
    "        \"X-RapidAPI-Host\": \"flixster.p.rapidapi.com\"\n",
    "    }\n",
    "\n",
    "    response = requests.request(\"GET\", url, headers=headers, params=querystring)\n",
    "    return response\n"
   ]
  },
  {
   "attachments": {},
   "cell_type": "markdown",
   "metadata": {},
   "source": [
    "**Below, we iterate through all movie data json we scraped from the single letter query and extract it's emsId and emsVersionId. Using the extracted Ids, we can then scrape the relevant Movie Review data and additional movie details from Flixster**"
   ]
  },
  {
   "cell_type": "code",
   "execution_count": null,
   "metadata": {},
   "outputs": [],
   "source": [
    "#After getting queried Movie results\n",
    "#Read all the emsId from the results Json\n",
    "# set the path to the folder containing the JSON files\n",
    "folder_path = os.getcwd() +\"/queriedMovieDetails/\"\n",
    "\n",
    "# loop through all files in the folder\n",
    "for file_name in os.listdir(folder_path):\n",
    "    # check if file is a JSON file\n",
    "    if file_name.endswith('.json'):\n",
    "        # open the file and load the JSON data\n",
    "        with open(os.path.join(folder_path, file_name)) as json_file:\n",
    "            data = json.load(json_file)\n",
    "            \n",
    "            # do something with the JSON data, such as extracting specific values\n",
    "            movie_name = data['data']['movie']['name']\n",
    "            movie_ems = data['data']['movie']['emsId']\n",
    "            movie_ems_versionId = data['data']['movie']['emsVersionId'] #Another id used to get more movie detail data e.g Release date, genre ....\n",
    "            \n",
    "            # print the values for this file\n",
    "            review_result = getMovieReviewsByEmsId(movie_ems)\n",
    "            list_of_reviews = review_result['data']['audienceReviews']['items']\n",
    "            if (len(list_of_reviews)!=0):\n",
    "                for review in list_of_reviews:\n",
    "                    if (review['rating']==None or review['comment']==None):\n",
    "                        break\n",
    "                    listNames.append(movie_name)\n",
    "                    listId.append(movie_ems)\n",
    "                    listUserRatings.append(review['rating'])\n",
    "                    listReviews.append(review['comment'])\n",
    "                    listIsVideo.append(\"FALSE\")\n",
    "                    more_movie_data = getMoreMovieDetailsByEmsVersionId(movie_ems_versionId)['data']['movie']\n",
    "                    movie_score = more_movie_data['userRating']['dtlLikedScore']\n",
    "                    if (score!=None):\n",
    "                        listOverallRatings.append(movie_score)\n",
    "                    else:\n",
    "                        listOverallRatings.append(5)\n",
    "                    listReleaseDate.append(more_movie_data['releaseDate'])\n",
    "                    #Logic to retrieve genres of the movie and clean and convert to a string\n",
    "                    genre_string = \"\"\n",
    "                    current_movie_genre = more_movie_data['genres']\n",
    "                    #Logic for retrieving genres\n",
    "                    for i in range(len(current_movie_genre)):\n",
    "                        if i!=len(current_movie_genre)-1:\n",
    "                            genre_string+=f\"{current_movie_genre[i]['name']},\"\n",
    "                        else:\n",
    "                            genre_string+=f\"{current_movie_genre[i]['name']}\"\n",
    "                    listGenre.append(genre_string)\n",
    "                    genre_string=\"\"\n",
    "                    listProductionCompany.append(\"Unknown\")\n",
    "                pass\n"
   ]
  },
  {
   "attachments": {},
   "cell_type": "markdown",
   "metadata": {},
   "source": [
    "**Creating a pd.df with scraped data and save as CSV**"
   ]
  },
  {
   "cell_type": "code",
   "execution_count": null,
   "metadata": {},
   "outputs": [],
   "source": [
    "data = {\n",
    "    'Movie Name': listNames,\n",
    "    'Movie Id' : listId,\n",
    "    'Review Content': listReviews,\n",
    "    'tmdb Rating' : listOverallRatings,\n",
    "    'User Rating': listUserRatings,\n",
    "    'Genre(s)' : listGenre,\n",
    "    'Not A Movie?' : listIsVideo,\n",
    "    'Release Date' : listReleaseDate,\n",
    "    'Production Company' : listProductionCompany\n",
    "}\n",
    "\n",
    "# Create a Pandas dataframe from the data\n",
    "df = pd.DataFrame(data)\n",
    "\n",
    "# Save the dataframe to a CSV file\n",
    "#df.to_csv('test_clean_data_extended_newest_data.csv', index=True)"
   ]
  }
 ],
 "metadata": {
  "kernelspec": {
   "display_name": "Python 3.9.12 ('base')",
   "language": "python",
   "name": "python3"
  },
  "language_info": {
   "codemirror_mode": {
    "name": "ipython",
    "version": 3
   },
   "file_extension": ".py",
   "mimetype": "text/x-python",
   "name": "python",
   "nbconvert_exporter": "python",
   "pygments_lexer": "ipython3",
   "version": "3.9.12"
  },
  "orig_nbformat": 4,
  "vscode": {
   "interpreter": {
    "hash": "0086ea075230272764581c0f79f0ead2bcfb00df1336ff99837d07d857559480"
   }
  }
 },
 "nbformat": 4,
 "nbformat_minor": 2
}
