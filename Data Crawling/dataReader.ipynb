{
 "cells": [
  {
   "cell_type": "markdown",
   "metadata": {},
   "source": [
    "# This File is meant to get all the statistics of the data that we have"
   ]
  },
  {
   "cell_type": "code",
   "execution_count": 1,
   "metadata": {},
   "outputs": [],
   "source": [
    "import pandas as pd\n",
    "import os"
   ]
  },
  {
   "cell_type": "code",
   "execution_count": 15,
   "metadata": {},
   "outputs": [
    {
     "name": "stdout",
     "output_type": "stream",
     "text": [
      "/Users/haydenang/Desktop/Term 6 NTU/Info Retrieval/Project folder/CE-CZ4034-Information-Retrieval-Group-Project/Data Dump\n"
     ]
    }
   ],
   "source": [
    "file_path = os.getcwd()\n",
    "\n",
    "print(file_path+\"/Data Dump\")\n",
    "tmdb_data = pd.read_csv(f\"{file_path}/Data Dump/final_cleaned_tmdb_data.csv\")\n",
    "flixster_data = pd.read_csv(f\"{file_path}/Data Dump/flixster_data.csv\")"
   ]
  },
  {
   "cell_type": "code",
   "execution_count": 32,
   "metadata": {},
   "outputs": [],
   "source": [
    "def get_word_stats(reviews):\n",
    "    total_words=0\n",
    "    unique_words=0\n",
    "    for review in reviews:\n",
    "        total_words += len(review.split())\n",
    "        unique_words += len(set(review.split()))\n",
    "    return total_words,unique_words"
   ]
  },
  {
   "cell_type": "code",
   "execution_count": 39,
   "metadata": {},
   "outputs": [
    {
     "name": "stdout",
     "output_type": "stream",
     "text": [
      "(9887, 10)\n",
      "(611, 10)\n"
     ]
    },
    {
     "data": {
      "text/html": [
       "<div>\n",
       "<style scoped>\n",
       "    .dataframe tbody tr th:only-of-type {\n",
       "        vertical-align: middle;\n",
       "    }\n",
       "\n",
       "    .dataframe tbody tr th {\n",
       "        vertical-align: top;\n",
       "    }\n",
       "\n",
       "    .dataframe thead th {\n",
       "        text-align: right;\n",
       "    }\n",
       "</style>\n",
       "<table border=\"1\" class=\"dataframe\">\n",
       "  <thead>\n",
       "    <tr style=\"text-align: right;\">\n",
       "      <th></th>\n",
       "      <th>Unnamed: 0</th>\n",
       "      <th>Movie Name</th>\n",
       "      <th>Movie Id</th>\n",
       "      <th>Review Content</th>\n",
       "      <th>tmdb Rating</th>\n",
       "      <th>User Rating</th>\n",
       "      <th>Genre(s)</th>\n",
       "      <th>Not A Movie?</th>\n",
       "      <th>Release Date</th>\n",
       "      <th>Production Company</th>\n",
       "      <th>flixter Rating</th>\n",
       "    </tr>\n",
       "  </thead>\n",
       "  <tbody>\n",
       "    <tr>\n",
       "      <th>0</th>\n",
       "      <td>0</td>\n",
       "      <td>Shadows in Paradise</td>\n",
       "      <td>3.0</td>\n",
       "      <td>Released in 1986, Aki Kaurismaki's &lt;i&gt;Varjoja ...</td>\n",
       "      <td>7.184</td>\n",
       "      <td>7.0</td>\n",
       "      <td>Drama,Comedy,Romance</td>\n",
       "      <td>False</td>\n",
       "      <td>1986-10-17</td>\n",
       "      <td>Villealfa Filmproductions</td>\n",
       "      <td>NaN</td>\n",
       "    </tr>\n",
       "    <tr>\n",
       "      <th>1</th>\n",
       "      <td>1</td>\n",
       "      <td>American Beauty</td>\n",
       "      <td>14.0</td>\n",
       "      <td>The film American Beauty to me is a film about...</td>\n",
       "      <td>8.030</td>\n",
       "      <td>10.0</td>\n",
       "      <td>Drama</td>\n",
       "      <td>False</td>\n",
       "      <td>1999-09-15</td>\n",
       "      <td>Jinks/Cohen Company</td>\n",
       "      <td>NaN</td>\n",
       "    </tr>\n",
       "    <tr>\n",
       "      <th>2</th>\n",
       "      <td>2</td>\n",
       "      <td>Citizen Kane</td>\n",
       "      <td>15.0</td>\n",
       "      <td>\"The Greatest Movie of All Time!\" That's the g...</td>\n",
       "      <td>8.023</td>\n",
       "      <td>9.0</td>\n",
       "      <td>Mystery,Drama</td>\n",
       "      <td>False</td>\n",
       "      <td>1941-04-17</td>\n",
       "      <td>Mercury Productions</td>\n",
       "      <td>NaN</td>\n",
       "    </tr>\n",
       "    <tr>\n",
       "      <th>3</th>\n",
       "      <td>3</td>\n",
       "      <td>Dancer in the Dark</td>\n",
       "      <td>16.0</td>\n",
       "      <td>Dazzling Björk in this indictment against the ...</td>\n",
       "      <td>7.889</td>\n",
       "      <td>10.0</td>\n",
       "      <td>Drama,Crime</td>\n",
       "      <td>False</td>\n",
       "      <td>2000-06-30</td>\n",
       "      <td>Lantia Cinema &amp; Audiovisivi</td>\n",
       "      <td>NaN</td>\n",
       "    </tr>\n",
       "    <tr>\n",
       "      <th>4</th>\n",
       "      <td>4</td>\n",
       "      <td>The Fifth Element</td>\n",
       "      <td>18.0</td>\n",
       "      <td>This movie is one of the best movies of all ti...</td>\n",
       "      <td>7.524</td>\n",
       "      <td>9.5</td>\n",
       "      <td>Adventure,Fantasy,Action,Thriller,Science Fiction</td>\n",
       "      <td>False</td>\n",
       "      <td>1997-05-02</td>\n",
       "      <td>Gaumont</td>\n",
       "      <td>NaN</td>\n",
       "    </tr>\n",
       "  </tbody>\n",
       "</table>\n",
       "</div>"
      ],
      "text/plain": [
       "   Unnamed: 0           Movie Name Movie Id  \\\n",
       "0           0  Shadows in Paradise      3.0   \n",
       "1           1      American Beauty     14.0   \n",
       "2           2         Citizen Kane     15.0   \n",
       "3           3   Dancer in the Dark     16.0   \n",
       "4           4    The Fifth Element     18.0   \n",
       "\n",
       "                                      Review Content  tmdb Rating  \\\n",
       "0  Released in 1986, Aki Kaurismaki's <i>Varjoja ...        7.184   \n",
       "1  The film American Beauty to me is a film about...        8.030   \n",
       "2  \"The Greatest Movie of All Time!\" That's the g...        8.023   \n",
       "3  Dazzling Björk in this indictment against the ...        7.889   \n",
       "4  This movie is one of the best movies of all ti...        7.524   \n",
       "\n",
       "   User Rating                                           Genre(s)  \\\n",
       "0          7.0                               Drama,Comedy,Romance   \n",
       "1         10.0                                              Drama   \n",
       "2          9.0                                      Mystery,Drama   \n",
       "3         10.0                                        Drama,Crime   \n",
       "4          9.5  Adventure,Fantasy,Action,Thriller,Science Fiction   \n",
       "\n",
       "   Not A Movie? Release Date           Production Company  flixter Rating  \n",
       "0         False   1986-10-17    Villealfa Filmproductions             NaN  \n",
       "1         False   1999-09-15          Jinks/Cohen Company             NaN  \n",
       "2         False   1941-04-17          Mercury Productions             NaN  \n",
       "3         False   2000-06-30  Lantia Cinema & Audiovisivi             NaN  \n",
       "4         False   1997-05-02                      Gaumont             NaN  "
      ]
     },
     "execution_count": 39,
     "metadata": {},
     "output_type": "execute_result"
    }
   ],
   "source": [
    "print(tmdb_data.shape)\n",
    "print(flixster_data.shape)\n",
    "resulting_df = pd.concat([tmdb_data,flixster_data])\n",
    "resulting_df.head()"
   ]
  },
  {
   "cell_type": "code",
   "execution_count": 33,
   "metadata": {},
   "outputs": [],
   "source": [
    "total_words,unique_words = get_word_stats(resulting_df['Review Content'].tolist())\n"
   ]
  },
  {
   "cell_type": "code",
   "execution_count": 36,
   "metadata": {},
   "outputs": [
    {
     "name": "stdout",
     "output_type": "stream",
     "text": [
      "Total Number of Words: 2477654\n",
      "Total Unique Words: 1636831\n"
     ]
    }
   ],
   "source": [
    "print(f\"Total Number of Words: {total_words}\")\n",
    "print(f\"Total Unique Words: {unique_words}\")"
   ]
  },
  {
   "cell_type": "code",
   "execution_count": 46,
   "metadata": {},
   "outputs": [
    {
     "name": "stdout",
     "output_type": "stream",
     "text": [
      "Bad Reviews for flixster: 484\n",
      "Good Reviews for flixster: 127\n",
      "Bad Reviews for tmdb: 3947\n",
      "Good Reviews for tmdb: 5940\n"
     ]
    }
   ],
   "source": [
    "print(f\"Bad Reviews for flixster: {len(flixster_data[flixster_data['User Rating']<flixster_data['flixter Rating']])}\") #number of bad_reviews = 484\n",
    "print(f\"Good Reviews for flixster: {len(flixster_data[flixster_data['User Rating']>=flixster_data['flixter Rating']])}\") #number of good_reviews = 127\n",
    "print(f\"Bad Reviews for tmdb: {len(tmdb_data[tmdb_data['User Rating']<tmdb_data['tmdb Rating']])}\") #number of bad_reviews = 3947\n",
    "print(f\"Good Reviews for tmdb: {len(tmdb_data[tmdb_data['User Rating']>=tmdb_data['tmdb Rating']])}\") #number of good_reviews = 5940"
   ]
  },
  {
   "cell_type": "code",
   "execution_count": null,
   "metadata": {},
   "outputs": [],
   "source": []
  }
 ],
 "metadata": {
  "kernelspec": {
   "display_name": "Python 3.9.12 ('base')",
   "language": "python",
   "name": "python3"
  },
  "language_info": {
   "codemirror_mode": {
    "name": "ipython",
    "version": 3
   },
   "file_extension": ".py",
   "mimetype": "text/x-python",
   "name": "python",
   "nbconvert_exporter": "python",
   "pygments_lexer": "ipython3",
   "version": "3.9.12"
  },
  "orig_nbformat": 4,
  "vscode": {
   "interpreter": {
    "hash": "0086ea075230272764581c0f79f0ead2bcfb00df1336ff99837d07d857559480"
   }
  }
 },
 "nbformat": 4,
 "nbformat_minor": 2
}
